{
 "cells": [
  {
   "cell_type": "code",
   "execution_count": 1,
   "metadata": {},
   "outputs": [],
   "source": [
    "import pandas as pd\n",
    "import numpy as np\n",
    "import pickle\n",
    "from sklearn.preprocessing import StandardScaler\n",
    "from sklearn.linear_model import LogisticRegression\n",
    "from sklearn.ensemble import RandomForestClassifier\n",
    "from sklearn.naive_bayes import GaussianNB\n",
    "from sklearn.svm import SVC\n",
    "from xgboost import XGBClassifier\n",
    "from sklearn.neighbors import KNeighborsClassifier\n",
    "from sklearn.model_selection import train_test_split\n",
    "from sklearn.metrics import f1_score, recall_score, precision_score, log_loss, roc_auc_score, confusion_matrix, roc_curve, precision_recall_curve\n",
    "from sklearn.model_selection import GridSearchCV\n",
    "from imblearn.over_sampling import RandomOverSampler, ADASYN, SMOTE\n",
    "from mlxtend.classifier import StackingClassifier\n",
    "import matplotlib.pyplot as plt\n",
    "import seaborn as sns\n",
    "pd.options.display.max_columns = 200"
   ]
  },
  {
   "cell_type": "code",
   "execution_count": 2,
   "metadata": {},
   "outputs": [],
   "source": [
    "df = pd.read_csv('online_shoppers_intention.csv')"
   ]
  },
  {
   "cell_type": "code",
   "execution_count": 3,
   "metadata": {},
   "outputs": [],
   "source": [
    "to_dummy = ['Month','OperatingSystems','Browser','Region','TrafficType','VisitorType']\n",
    "\n",
    "for vari in to_dummy:\n",
    "    df = pd.concat([df, pd.get_dummies(df[vari],drop_first=True,prefix=vari)], axis=1)\n",
    "    df.drop(vari, axis=1, inplace=True)"
   ]
  },
  {
   "cell_type": "code",
   "execution_count": 4,
   "metadata": {},
   "outputs": [
    {
     "data": {
      "text/html": [
       "<div>\n",
       "<style scoped>\n",
       "    .dataframe tbody tr th:only-of-type {\n",
       "        vertical-align: middle;\n",
       "    }\n",
       "\n",
       "    .dataframe tbody tr th {\n",
       "        vertical-align: top;\n",
       "    }\n",
       "\n",
       "    .dataframe thead th {\n",
       "        text-align: right;\n",
       "    }\n",
       "</style>\n",
       "<table border=\"1\" class=\"dataframe\">\n",
       "  <thead>\n",
       "    <tr style=\"text-align: right;\">\n",
       "      <th></th>\n",
       "      <th>Administrative</th>\n",
       "      <th>Administrative_Duration</th>\n",
       "      <th>Informational</th>\n",
       "      <th>Informational_Duration</th>\n",
       "      <th>ProductRelated</th>\n",
       "      <th>ProductRelated_Duration</th>\n",
       "      <th>BounceRates</th>\n",
       "      <th>ExitRates</th>\n",
       "      <th>PageValues</th>\n",
       "      <th>SpecialDay</th>\n",
       "      <th>Weekend</th>\n",
       "      <th>Revenue</th>\n",
       "      <th>Month_Dec</th>\n",
       "      <th>Month_Feb</th>\n",
       "      <th>Month_Jul</th>\n",
       "      <th>Month_June</th>\n",
       "      <th>Month_Mar</th>\n",
       "      <th>Month_May</th>\n",
       "      <th>Month_Nov</th>\n",
       "      <th>Month_Oct</th>\n",
       "      <th>Month_Sep</th>\n",
       "      <th>OperatingSystems_2</th>\n",
       "      <th>OperatingSystems_3</th>\n",
       "      <th>OperatingSystems_4</th>\n",
       "      <th>OperatingSystems_5</th>\n",
       "      <th>OperatingSystems_6</th>\n",
       "      <th>OperatingSystems_7</th>\n",
       "      <th>OperatingSystems_8</th>\n",
       "      <th>Browser_2</th>\n",
       "      <th>Browser_3</th>\n",
       "      <th>Browser_4</th>\n",
       "      <th>Browser_5</th>\n",
       "      <th>Browser_6</th>\n",
       "      <th>Browser_7</th>\n",
       "      <th>Browser_8</th>\n",
       "      <th>Browser_9</th>\n",
       "      <th>Browser_10</th>\n",
       "      <th>Browser_11</th>\n",
       "      <th>Browser_12</th>\n",
       "      <th>Browser_13</th>\n",
       "      <th>Region_2</th>\n",
       "      <th>Region_3</th>\n",
       "      <th>Region_4</th>\n",
       "      <th>Region_5</th>\n",
       "      <th>Region_6</th>\n",
       "      <th>Region_7</th>\n",
       "      <th>Region_8</th>\n",
       "      <th>Region_9</th>\n",
       "      <th>TrafficType_2</th>\n",
       "      <th>TrafficType_3</th>\n",
       "      <th>TrafficType_4</th>\n",
       "      <th>TrafficType_5</th>\n",
       "      <th>TrafficType_6</th>\n",
       "      <th>TrafficType_7</th>\n",
       "      <th>TrafficType_8</th>\n",
       "      <th>TrafficType_9</th>\n",
       "      <th>TrafficType_10</th>\n",
       "      <th>TrafficType_11</th>\n",
       "      <th>TrafficType_12</th>\n",
       "      <th>TrafficType_13</th>\n",
       "      <th>TrafficType_14</th>\n",
       "      <th>TrafficType_15</th>\n",
       "      <th>TrafficType_16</th>\n",
       "      <th>TrafficType_17</th>\n",
       "      <th>TrafficType_18</th>\n",
       "      <th>TrafficType_19</th>\n",
       "      <th>TrafficType_20</th>\n",
       "      <th>VisitorType_Other</th>\n",
       "      <th>VisitorType_Returning_Visitor</th>\n",
       "    </tr>\n",
       "  </thead>\n",
       "  <tbody>\n",
       "    <tr>\n",
       "      <th>0</th>\n",
       "      <td>0</td>\n",
       "      <td>0.0</td>\n",
       "      <td>0</td>\n",
       "      <td>0.0</td>\n",
       "      <td>1</td>\n",
       "      <td>0.000000</td>\n",
       "      <td>0.20</td>\n",
       "      <td>0.20</td>\n",
       "      <td>0.0</td>\n",
       "      <td>0.0</td>\n",
       "      <td>False</td>\n",
       "      <td>False</td>\n",
       "      <td>0</td>\n",
       "      <td>1</td>\n",
       "      <td>0</td>\n",
       "      <td>0</td>\n",
       "      <td>0</td>\n",
       "      <td>0</td>\n",
       "      <td>0</td>\n",
       "      <td>0</td>\n",
       "      <td>0</td>\n",
       "      <td>0</td>\n",
       "      <td>0</td>\n",
       "      <td>0</td>\n",
       "      <td>0</td>\n",
       "      <td>0</td>\n",
       "      <td>0</td>\n",
       "      <td>0</td>\n",
       "      <td>0</td>\n",
       "      <td>0</td>\n",
       "      <td>0</td>\n",
       "      <td>0</td>\n",
       "      <td>0</td>\n",
       "      <td>0</td>\n",
       "      <td>0</td>\n",
       "      <td>0</td>\n",
       "      <td>0</td>\n",
       "      <td>0</td>\n",
       "      <td>0</td>\n",
       "      <td>0</td>\n",
       "      <td>0</td>\n",
       "      <td>0</td>\n",
       "      <td>0</td>\n",
       "      <td>0</td>\n",
       "      <td>0</td>\n",
       "      <td>0</td>\n",
       "      <td>0</td>\n",
       "      <td>0</td>\n",
       "      <td>0</td>\n",
       "      <td>0</td>\n",
       "      <td>0</td>\n",
       "      <td>0</td>\n",
       "      <td>0</td>\n",
       "      <td>0</td>\n",
       "      <td>0</td>\n",
       "      <td>0</td>\n",
       "      <td>0</td>\n",
       "      <td>0</td>\n",
       "      <td>0</td>\n",
       "      <td>0</td>\n",
       "      <td>0</td>\n",
       "      <td>0</td>\n",
       "      <td>0</td>\n",
       "      <td>0</td>\n",
       "      <td>0</td>\n",
       "      <td>0</td>\n",
       "      <td>0</td>\n",
       "      <td>0</td>\n",
       "      <td>1</td>\n",
       "    </tr>\n",
       "    <tr>\n",
       "      <th>1</th>\n",
       "      <td>0</td>\n",
       "      <td>0.0</td>\n",
       "      <td>0</td>\n",
       "      <td>0.0</td>\n",
       "      <td>2</td>\n",
       "      <td>64.000000</td>\n",
       "      <td>0.00</td>\n",
       "      <td>0.10</td>\n",
       "      <td>0.0</td>\n",
       "      <td>0.0</td>\n",
       "      <td>False</td>\n",
       "      <td>False</td>\n",
       "      <td>0</td>\n",
       "      <td>1</td>\n",
       "      <td>0</td>\n",
       "      <td>0</td>\n",
       "      <td>0</td>\n",
       "      <td>0</td>\n",
       "      <td>0</td>\n",
       "      <td>0</td>\n",
       "      <td>0</td>\n",
       "      <td>1</td>\n",
       "      <td>0</td>\n",
       "      <td>0</td>\n",
       "      <td>0</td>\n",
       "      <td>0</td>\n",
       "      <td>0</td>\n",
       "      <td>0</td>\n",
       "      <td>1</td>\n",
       "      <td>0</td>\n",
       "      <td>0</td>\n",
       "      <td>0</td>\n",
       "      <td>0</td>\n",
       "      <td>0</td>\n",
       "      <td>0</td>\n",
       "      <td>0</td>\n",
       "      <td>0</td>\n",
       "      <td>0</td>\n",
       "      <td>0</td>\n",
       "      <td>0</td>\n",
       "      <td>0</td>\n",
       "      <td>0</td>\n",
       "      <td>0</td>\n",
       "      <td>0</td>\n",
       "      <td>0</td>\n",
       "      <td>0</td>\n",
       "      <td>0</td>\n",
       "      <td>0</td>\n",
       "      <td>1</td>\n",
       "      <td>0</td>\n",
       "      <td>0</td>\n",
       "      <td>0</td>\n",
       "      <td>0</td>\n",
       "      <td>0</td>\n",
       "      <td>0</td>\n",
       "      <td>0</td>\n",
       "      <td>0</td>\n",
       "      <td>0</td>\n",
       "      <td>0</td>\n",
       "      <td>0</td>\n",
       "      <td>0</td>\n",
       "      <td>0</td>\n",
       "      <td>0</td>\n",
       "      <td>0</td>\n",
       "      <td>0</td>\n",
       "      <td>0</td>\n",
       "      <td>0</td>\n",
       "      <td>0</td>\n",
       "      <td>1</td>\n",
       "    </tr>\n",
       "    <tr>\n",
       "      <th>2</th>\n",
       "      <td>0</td>\n",
       "      <td>0.0</td>\n",
       "      <td>0</td>\n",
       "      <td>0.0</td>\n",
       "      <td>1</td>\n",
       "      <td>0.000000</td>\n",
       "      <td>0.20</td>\n",
       "      <td>0.20</td>\n",
       "      <td>0.0</td>\n",
       "      <td>0.0</td>\n",
       "      <td>False</td>\n",
       "      <td>False</td>\n",
       "      <td>0</td>\n",
       "      <td>1</td>\n",
       "      <td>0</td>\n",
       "      <td>0</td>\n",
       "      <td>0</td>\n",
       "      <td>0</td>\n",
       "      <td>0</td>\n",
       "      <td>0</td>\n",
       "      <td>0</td>\n",
       "      <td>0</td>\n",
       "      <td>0</td>\n",
       "      <td>1</td>\n",
       "      <td>0</td>\n",
       "      <td>0</td>\n",
       "      <td>0</td>\n",
       "      <td>0</td>\n",
       "      <td>0</td>\n",
       "      <td>0</td>\n",
       "      <td>0</td>\n",
       "      <td>0</td>\n",
       "      <td>0</td>\n",
       "      <td>0</td>\n",
       "      <td>0</td>\n",
       "      <td>0</td>\n",
       "      <td>0</td>\n",
       "      <td>0</td>\n",
       "      <td>0</td>\n",
       "      <td>0</td>\n",
       "      <td>0</td>\n",
       "      <td>0</td>\n",
       "      <td>0</td>\n",
       "      <td>0</td>\n",
       "      <td>0</td>\n",
       "      <td>0</td>\n",
       "      <td>0</td>\n",
       "      <td>1</td>\n",
       "      <td>0</td>\n",
       "      <td>1</td>\n",
       "      <td>0</td>\n",
       "      <td>0</td>\n",
       "      <td>0</td>\n",
       "      <td>0</td>\n",
       "      <td>0</td>\n",
       "      <td>0</td>\n",
       "      <td>0</td>\n",
       "      <td>0</td>\n",
       "      <td>0</td>\n",
       "      <td>0</td>\n",
       "      <td>0</td>\n",
       "      <td>0</td>\n",
       "      <td>0</td>\n",
       "      <td>0</td>\n",
       "      <td>0</td>\n",
       "      <td>0</td>\n",
       "      <td>0</td>\n",
       "      <td>0</td>\n",
       "      <td>1</td>\n",
       "    </tr>\n",
       "    <tr>\n",
       "      <th>3</th>\n",
       "      <td>0</td>\n",
       "      <td>0.0</td>\n",
       "      <td>0</td>\n",
       "      <td>0.0</td>\n",
       "      <td>2</td>\n",
       "      <td>2.666667</td>\n",
       "      <td>0.05</td>\n",
       "      <td>0.14</td>\n",
       "      <td>0.0</td>\n",
       "      <td>0.0</td>\n",
       "      <td>False</td>\n",
       "      <td>False</td>\n",
       "      <td>0</td>\n",
       "      <td>1</td>\n",
       "      <td>0</td>\n",
       "      <td>0</td>\n",
       "      <td>0</td>\n",
       "      <td>0</td>\n",
       "      <td>0</td>\n",
       "      <td>0</td>\n",
       "      <td>0</td>\n",
       "      <td>0</td>\n",
       "      <td>1</td>\n",
       "      <td>0</td>\n",
       "      <td>0</td>\n",
       "      <td>0</td>\n",
       "      <td>0</td>\n",
       "      <td>0</td>\n",
       "      <td>1</td>\n",
       "      <td>0</td>\n",
       "      <td>0</td>\n",
       "      <td>0</td>\n",
       "      <td>0</td>\n",
       "      <td>0</td>\n",
       "      <td>0</td>\n",
       "      <td>0</td>\n",
       "      <td>0</td>\n",
       "      <td>0</td>\n",
       "      <td>0</td>\n",
       "      <td>0</td>\n",
       "      <td>1</td>\n",
       "      <td>0</td>\n",
       "      <td>0</td>\n",
       "      <td>0</td>\n",
       "      <td>0</td>\n",
       "      <td>0</td>\n",
       "      <td>0</td>\n",
       "      <td>0</td>\n",
       "      <td>0</td>\n",
       "      <td>0</td>\n",
       "      <td>1</td>\n",
       "      <td>0</td>\n",
       "      <td>0</td>\n",
       "      <td>0</td>\n",
       "      <td>0</td>\n",
       "      <td>0</td>\n",
       "      <td>0</td>\n",
       "      <td>0</td>\n",
       "      <td>0</td>\n",
       "      <td>0</td>\n",
       "      <td>0</td>\n",
       "      <td>0</td>\n",
       "      <td>0</td>\n",
       "      <td>0</td>\n",
       "      <td>0</td>\n",
       "      <td>0</td>\n",
       "      <td>0</td>\n",
       "      <td>0</td>\n",
       "      <td>1</td>\n",
       "    </tr>\n",
       "    <tr>\n",
       "      <th>4</th>\n",
       "      <td>0</td>\n",
       "      <td>0.0</td>\n",
       "      <td>0</td>\n",
       "      <td>0.0</td>\n",
       "      <td>10</td>\n",
       "      <td>627.500000</td>\n",
       "      <td>0.02</td>\n",
       "      <td>0.05</td>\n",
       "      <td>0.0</td>\n",
       "      <td>0.0</td>\n",
       "      <td>True</td>\n",
       "      <td>False</td>\n",
       "      <td>0</td>\n",
       "      <td>1</td>\n",
       "      <td>0</td>\n",
       "      <td>0</td>\n",
       "      <td>0</td>\n",
       "      <td>0</td>\n",
       "      <td>0</td>\n",
       "      <td>0</td>\n",
       "      <td>0</td>\n",
       "      <td>0</td>\n",
       "      <td>1</td>\n",
       "      <td>0</td>\n",
       "      <td>0</td>\n",
       "      <td>0</td>\n",
       "      <td>0</td>\n",
       "      <td>0</td>\n",
       "      <td>0</td>\n",
       "      <td>1</td>\n",
       "      <td>0</td>\n",
       "      <td>0</td>\n",
       "      <td>0</td>\n",
       "      <td>0</td>\n",
       "      <td>0</td>\n",
       "      <td>0</td>\n",
       "      <td>0</td>\n",
       "      <td>0</td>\n",
       "      <td>0</td>\n",
       "      <td>0</td>\n",
       "      <td>0</td>\n",
       "      <td>0</td>\n",
       "      <td>0</td>\n",
       "      <td>0</td>\n",
       "      <td>0</td>\n",
       "      <td>0</td>\n",
       "      <td>0</td>\n",
       "      <td>0</td>\n",
       "      <td>0</td>\n",
       "      <td>0</td>\n",
       "      <td>1</td>\n",
       "      <td>0</td>\n",
       "      <td>0</td>\n",
       "      <td>0</td>\n",
       "      <td>0</td>\n",
       "      <td>0</td>\n",
       "      <td>0</td>\n",
       "      <td>0</td>\n",
       "      <td>0</td>\n",
       "      <td>0</td>\n",
       "      <td>0</td>\n",
       "      <td>0</td>\n",
       "      <td>0</td>\n",
       "      <td>0</td>\n",
       "      <td>0</td>\n",
       "      <td>0</td>\n",
       "      <td>0</td>\n",
       "      <td>0</td>\n",
       "      <td>1</td>\n",
       "    </tr>\n",
       "  </tbody>\n",
       "</table>\n",
       "</div>"
      ],
      "text/plain": [
       "   Administrative  Administrative_Duration  Informational  \\\n",
       "0               0                      0.0              0   \n",
       "1               0                      0.0              0   \n",
       "2               0                      0.0              0   \n",
       "3               0                      0.0              0   \n",
       "4               0                      0.0              0   \n",
       "\n",
       "   Informational_Duration  ProductRelated  ProductRelated_Duration  \\\n",
       "0                     0.0               1                 0.000000   \n",
       "1                     0.0               2                64.000000   \n",
       "2                     0.0               1                 0.000000   \n",
       "3                     0.0               2                 2.666667   \n",
       "4                     0.0              10               627.500000   \n",
       "\n",
       "   BounceRates  ExitRates  PageValues  SpecialDay  Weekend  Revenue  \\\n",
       "0         0.20       0.20         0.0         0.0    False    False   \n",
       "1         0.00       0.10         0.0         0.0    False    False   \n",
       "2         0.20       0.20         0.0         0.0    False    False   \n",
       "3         0.05       0.14         0.0         0.0    False    False   \n",
       "4         0.02       0.05         0.0         0.0     True    False   \n",
       "\n",
       "   Month_Dec  Month_Feb  Month_Jul  Month_June  Month_Mar  Month_May  \\\n",
       "0          0          1          0           0          0          0   \n",
       "1          0          1          0           0          0          0   \n",
       "2          0          1          0           0          0          0   \n",
       "3          0          1          0           0          0          0   \n",
       "4          0          1          0           0          0          0   \n",
       "\n",
       "   Month_Nov  Month_Oct  Month_Sep  OperatingSystems_2  OperatingSystems_3  \\\n",
       "0          0          0          0                   0                   0   \n",
       "1          0          0          0                   1                   0   \n",
       "2          0          0          0                   0                   0   \n",
       "3          0          0          0                   0                   1   \n",
       "4          0          0          0                   0                   1   \n",
       "\n",
       "   OperatingSystems_4  OperatingSystems_5  OperatingSystems_6  \\\n",
       "0                   0                   0                   0   \n",
       "1                   0                   0                   0   \n",
       "2                   1                   0                   0   \n",
       "3                   0                   0                   0   \n",
       "4                   0                   0                   0   \n",
       "\n",
       "   OperatingSystems_7  OperatingSystems_8  Browser_2  Browser_3  Browser_4  \\\n",
       "0                   0                   0          0          0          0   \n",
       "1                   0                   0          1          0          0   \n",
       "2                   0                   0          0          0          0   \n",
       "3                   0                   0          1          0          0   \n",
       "4                   0                   0          0          1          0   \n",
       "\n",
       "   Browser_5  Browser_6  Browser_7  Browser_8  Browser_9  Browser_10  \\\n",
       "0          0          0          0          0          0           0   \n",
       "1          0          0          0          0          0           0   \n",
       "2          0          0          0          0          0           0   \n",
       "3          0          0          0          0          0           0   \n",
       "4          0          0          0          0          0           0   \n",
       "\n",
       "   Browser_11  Browser_12  Browser_13  Region_2  Region_3  Region_4  Region_5  \\\n",
       "0           0           0           0         0         0         0         0   \n",
       "1           0           0           0         0         0         0         0   \n",
       "2           0           0           0         0         0         0         0   \n",
       "3           0           0           0         1         0         0         0   \n",
       "4           0           0           0         0         0         0         0   \n",
       "\n",
       "   Region_6  Region_7  Region_8  Region_9  TrafficType_2  TrafficType_3  \\\n",
       "0         0         0         0         0              0              0   \n",
       "1         0         0         0         0              1              0   \n",
       "2         0         0         0         1              0              1   \n",
       "3         0         0         0         0              0              0   \n",
       "4         0         0         0         0              0              0   \n",
       "\n",
       "   TrafficType_4  TrafficType_5  TrafficType_6  TrafficType_7  TrafficType_8  \\\n",
       "0              0              0              0              0              0   \n",
       "1              0              0              0              0              0   \n",
       "2              0              0              0              0              0   \n",
       "3              1              0              0              0              0   \n",
       "4              1              0              0              0              0   \n",
       "\n",
       "   TrafficType_9  TrafficType_10  TrafficType_11  TrafficType_12  \\\n",
       "0              0               0               0               0   \n",
       "1              0               0               0               0   \n",
       "2              0               0               0               0   \n",
       "3              0               0               0               0   \n",
       "4              0               0               0               0   \n",
       "\n",
       "   TrafficType_13  TrafficType_14  TrafficType_15  TrafficType_16  \\\n",
       "0               0               0               0               0   \n",
       "1               0               0               0               0   \n",
       "2               0               0               0               0   \n",
       "3               0               0               0               0   \n",
       "4               0               0               0               0   \n",
       "\n",
       "   TrafficType_17  TrafficType_18  TrafficType_19  TrafficType_20  \\\n",
       "0               0               0               0               0   \n",
       "1               0               0               0               0   \n",
       "2               0               0               0               0   \n",
       "3               0               0               0               0   \n",
       "4               0               0               0               0   \n",
       "\n",
       "   VisitorType_Other  VisitorType_Returning_Visitor  \n",
       "0                  0                              1  \n",
       "1                  0                              1  \n",
       "2                  0                              1  \n",
       "3                  0                              1  \n",
       "4                  0                              1  "
      ]
     },
     "execution_count": 4,
     "metadata": {},
     "output_type": "execute_result"
    }
   ],
   "source": [
    "df.head()"
   ]
  },
  {
   "cell_type": "code",
   "execution_count": 5,
   "metadata": {
    "scrolled": false
   },
   "outputs": [
    {
     "data": {
      "text/plain": [
       "False    10422\n",
       "True      1908\n",
       "Name: Revenue, dtype: int64"
      ]
     },
     "execution_count": 5,
     "metadata": {},
     "output_type": "execute_result"
    }
   ],
   "source": [
    "df.Revenue.value_counts()"
   ]
  },
  {
   "cell_type": "code",
   "execution_count": 6,
   "metadata": {},
   "outputs": [],
   "source": [
    "X = df.drop(['Revenue'],axis=1)\n",
    "y = df.Revenue"
   ]
  },
  {
   "cell_type": "code",
   "execution_count": 7,
   "metadata": {},
   "outputs": [],
   "source": [
    "X_train, X_test, y_train, y_test = train_test_split(X, y, test_size=0.2, random_state=12345)"
   ]
  },
  {
   "cell_type": "code",
   "execution_count": 8,
   "metadata": {
    "scrolled": false
   },
   "outputs": [
    {
     "name": "stderr",
     "output_type": "stream",
     "text": [
      "/anaconda3/lib/python3.6/site-packages/sklearn/preprocessing/data.py:645: DataConversionWarning: Data with input dtype bool, uint8, int64, float64 were all converted to float64 by StandardScaler.\n",
      "  return self.partial_fit(X, y)\n",
      "/anaconda3/lib/python3.6/site-packages/ipykernel_launcher.py:3: DataConversionWarning: Data with input dtype bool, uint8, int64, float64 were all converted to float64 by StandardScaler.\n",
      "  This is separate from the ipykernel package so we can avoid doing imports until\n",
      "/anaconda3/lib/python3.6/site-packages/ipykernel_launcher.py:4: DataConversionWarning: Data with input dtype bool, uint8, int64, float64 were all converted to float64 by StandardScaler.\n",
      "  after removing the cwd from sys.path.\n"
     ]
    }
   ],
   "source": [
    "std = StandardScaler()\n",
    "std.fit(X_train)\n",
    "X_train_st = std.transform(X_train)\n",
    "X_test_st = std.transform(X_test)\n",
    "\n",
    "X_train_st_Original = X_train_st\n",
    "X_test_st_Original = X_test_st\n",
    "y_train_Original = y_train\n",
    "y_test_Original = y_test\n",
    "\n",
    "ros = RandomOverSampler(random_state=0)\n",
    "\n",
    "sample_dict = {}\n",
    "\n",
    "X_train_st_Upsample, y_train_Upsample = ros.fit_sample(X_train_st,y_train)\n",
    "X_train_st_Smote, y_train_Smote = SMOTE(random_state=42).fit_sample(X_train_st,y_train)\n",
    "X_train_st_ADASYN, y_train_ADASYN = ADASYN(random_state=42).fit_sample(X_train_st,y_train)"
   ]
  },
  {
   "cell_type": "code",
   "execution_count": 9,
   "metadata": {},
   "outputs": [
    {
     "data": {
      "text/plain": [
       "False    10422\n",
       "True      1908\n",
       "Name: Revenue, dtype: int64"
      ]
     },
     "execution_count": 9,
     "metadata": {},
     "output_type": "execute_result"
    }
   ],
   "source": [
    "y.value_counts()"
   ]
  },
  {
   "cell_type": "code",
   "execution_count": 10,
   "metadata": {},
   "outputs": [],
   "source": [
    "def print_summary(model,X,y):\n",
    "    #print(f'{model}')\n",
    "    print(f'f1 score: {f1_score(y, model.predict(X))}')\n",
    "    print(f'precision score: {precision_score(y, model.predict(X))}')\n",
    "    print(f'recall score: {recall_score(y, model.predict(X))}')\n",
    "    print(f'log loss: {log_loss(y, model.predict(X))}')\n",
    "    print(f'roc auc: {roc_auc_score(y, model.predict(X))}')\n",
    "    print(f'conf matrix: \\n {confusion_matrix(y, model.predict(X))}')"
   ]
  },
  {
   "cell_type": "code",
   "execution_count": 29,
   "metadata": {
    "scrolled": true
   },
   "outputs": [],
   "source": [
    "model_dict = {\n",
    "    'Logistic Regression': [LogisticRegression(random_state=0, solver='lbfgs', max_iter=2000),\n",
    "            {\n",
    "                #'multi_class': ['ovr', 'multinomial', 'auto'], \n",
    "                'C':list(10**np.linspace(-3,3,10))\n",
    "            }\n",
    "           ],\n",
    "    'Random Forest': [RandomForestClassifier(n_estimators=200, max_depth=20,random_state=0),\n",
    "            {\n",
    "                'criterion': ['entropy'], \n",
    "                'max_depth': [10,15,20,None], \n",
    "                #'min_samples_split': [2,3,4,5], \n",
    "                'max_features': ['sqrt']}\n",
    "           ],\n",
    "    'Naive Bayes': [GaussianNB(),\n",
    "            {}\n",
    "           ],\n",
    "    'K-Nearest-Neighbors': [KNeighborsClassifier(),\n",
    "           {\n",
    "                'n_neighbors': [3,5,11,21] #list(np.linspace(3,31,15).astype(int)),\n",
    "                #'p': [1,2]\n",
    "           }\n",
    "           ]\n",
    "#            ],\n",
    "#     'svm': [SVC(gamma = 'scale'),\n",
    "#            {\n",
    "#                 'kernel': ['linear'], # 'poly', 'rbf', 'sigmoid']\n",
    "#                 'C': list(10**np.linspace(-1,1,3)),\n",
    "#                 'probability': [True]\n",
    "#            }\n",
    "#            ]\n",
    "}\n",
    "\n",
    "model_dict_simple = {\n",
    "    'Logistic Regression': [LogisticRegression(random_state=0, solver='lbfgs', max_iter=2000),{}],\n",
    "    'Random Forest': [RandomForestClassifier(random_state=0, n_estimators=200),{}],\n",
    "    'Naive Bayes': [GaussianNB(),{}],\n",
    "    'K-Nearest-Neighbors': [KNeighborsClassifier(),{}],\n",
    "    'Support Vector Classifier': [SVC(random_state=0,probability=True),{}]\n",
    "}\n",
    "\n",
    "sample_list = ['Original', 'Upsample', 'Smote', 'ADASYN']"
   ]
  },
  {
   "cell_type": "code",
   "execution_count": 30,
   "metadata": {
    "scrolled": true
   },
   "outputs": [
    {
     "name": "stdout",
     "output_type": "stream",
     "text": [
      "sample_style is Original\n",
      "nickname is log\n",
      "Fitting 3 folds for each of 10 candidates, totalling 30 fits\n"
     ]
    },
    {
     "name": "stderr",
     "output_type": "stream",
     "text": [
      "[Parallel(n_jobs=-1)]: Using backend LokyBackend with 4 concurrent workers.\n",
      "[Parallel(n_jobs=-1)]: Done  30 out of  30 | elapsed:    4.3s finished\n",
      "[Parallel(n_jobs=-1)]: Using backend LokyBackend with 4 concurrent workers.\n"
     ]
    },
    {
     "name": "stdout",
     "output_type": "stream",
     "text": [
      "nickname is rfc\n",
      "Fitting 3 folds for each of 4 candidates, totalling 12 fits\n"
     ]
    },
    {
     "name": "stderr",
     "output_type": "stream",
     "text": [
      "[Parallel(n_jobs=-1)]: Done  12 out of  12 | elapsed:    8.7s finished\n"
     ]
    },
    {
     "name": "stdout",
     "output_type": "stream",
     "text": [
      "nickname is gnb\n",
      "Fitting 3 folds for each of 1 candidates, totalling 3 fits\n"
     ]
    },
    {
     "name": "stderr",
     "output_type": "stream",
     "text": [
      "[Parallel(n_jobs=-1)]: Using backend LokyBackend with 4 concurrent workers.\n",
      "[Parallel(n_jobs=-1)]: Done   3 out of   3 | elapsed:    0.2s finished\n"
     ]
    },
    {
     "name": "stdout",
     "output_type": "stream",
     "text": [
      "nickname is knn\n",
      "Fitting 3 folds for each of 4 candidates, totalling 12 fits\n"
     ]
    },
    {
     "name": "stderr",
     "output_type": "stream",
     "text": [
      "[Parallel(n_jobs=-1)]: Using backend LokyBackend with 4 concurrent workers.\n",
      "[Parallel(n_jobs=-1)]: Done  12 out of  12 | elapsed:   42.8s finished\n"
     ]
    },
    {
     "name": "stdout",
     "output_type": "stream",
     "text": [
      "sample_style is Upsample\n",
      "nickname is log\n",
      "Fitting 3 folds for each of 10 candidates, totalling 30 fits\n"
     ]
    },
    {
     "name": "stderr",
     "output_type": "stream",
     "text": [
      "[Parallel(n_jobs=-1)]: Using backend LokyBackend with 4 concurrent workers.\n",
      "[Parallel(n_jobs=-1)]: Done  30 out of  30 | elapsed:    2.4s finished\n",
      "[Parallel(n_jobs=-1)]: Using backend LokyBackend with 4 concurrent workers.\n"
     ]
    },
    {
     "name": "stdout",
     "output_type": "stream",
     "text": [
      "nickname is rfc\n",
      "Fitting 3 folds for each of 4 candidates, totalling 12 fits\n"
     ]
    },
    {
     "name": "stderr",
     "output_type": "stream",
     "text": [
      "[Parallel(n_jobs=-1)]: Done  12 out of  12 | elapsed:   14.5s finished\n"
     ]
    },
    {
     "name": "stdout",
     "output_type": "stream",
     "text": [
      "nickname is gnb\n",
      "Fitting 3 folds for each of 1 candidates, totalling 3 fits\n",
      "nickname is knn\n",
      "Fitting 3 folds for each of 4 candidates, totalling 12 fits\n"
     ]
    },
    {
     "name": "stderr",
     "output_type": "stream",
     "text": [
      "[Parallel(n_jobs=-1)]: Using backend LokyBackend with 4 concurrent workers.\n",
      "[Parallel(n_jobs=-1)]: Done   3 out of   3 | elapsed:    0.2s finished\n",
      "[Parallel(n_jobs=-1)]: Using backend LokyBackend with 4 concurrent workers.\n",
      "[Parallel(n_jobs=-1)]: Done  12 out of  12 | elapsed:  1.8min finished\n"
     ]
    },
    {
     "name": "stdout",
     "output_type": "stream",
     "text": [
      "sample_style is Smote\n",
      "nickname is log\n",
      "Fitting 3 folds for each of 10 candidates, totalling 30 fits\n"
     ]
    },
    {
     "name": "stderr",
     "output_type": "stream",
     "text": [
      "[Parallel(n_jobs=-1)]: Using backend LokyBackend with 4 concurrent workers.\n",
      "[Parallel(n_jobs=-1)]: Done  30 out of  30 | elapsed:    2.0s finished\n",
      "[Parallel(n_jobs=-1)]: Using backend LokyBackend with 4 concurrent workers.\n"
     ]
    },
    {
     "name": "stdout",
     "output_type": "stream",
     "text": [
      "nickname is rfc\n",
      "Fitting 3 folds for each of 4 candidates, totalling 12 fits\n"
     ]
    },
    {
     "name": "stderr",
     "output_type": "stream",
     "text": [
      "[Parallel(n_jobs=-1)]: Done  12 out of  12 | elapsed:   18.0s finished\n"
     ]
    },
    {
     "name": "stdout",
     "output_type": "stream",
     "text": [
      "nickname is gnb\n",
      "Fitting 3 folds for each of 1 candidates, totalling 3 fits\n",
      "nickname is knn\n",
      "Fitting 3 folds for each of 4 candidates, totalling 12 fits\n"
     ]
    },
    {
     "name": "stderr",
     "output_type": "stream",
     "text": [
      "[Parallel(n_jobs=-1)]: Using backend LokyBackend with 4 concurrent workers.\n",
      "[Parallel(n_jobs=-1)]: Done   3 out of   3 | elapsed:    0.1s finished\n",
      "[Parallel(n_jobs=-1)]: Using backend LokyBackend with 4 concurrent workers.\n",
      "[Parallel(n_jobs=-1)]: Done  12 out of  12 | elapsed:  1.7min finished\n"
     ]
    },
    {
     "name": "stdout",
     "output_type": "stream",
     "text": [
      "sample_style is ADASYN\n",
      "nickname is log\n",
      "Fitting 3 folds for each of 10 candidates, totalling 30 fits\n"
     ]
    },
    {
     "name": "stderr",
     "output_type": "stream",
     "text": [
      "[Parallel(n_jobs=-1)]: Using backend LokyBackend with 4 concurrent workers.\n",
      "[Parallel(n_jobs=-1)]: Done  30 out of  30 | elapsed:    1.9s finished\n",
      "[Parallel(n_jobs=-1)]: Using backend LokyBackend with 4 concurrent workers.\n"
     ]
    },
    {
     "name": "stdout",
     "output_type": "stream",
     "text": [
      "nickname is rfc\n",
      "Fitting 3 folds for each of 4 candidates, totalling 12 fits\n"
     ]
    },
    {
     "name": "stderr",
     "output_type": "stream",
     "text": [
      "[Parallel(n_jobs=-1)]: Done  12 out of  12 | elapsed:   17.0s finished\n"
     ]
    },
    {
     "name": "stdout",
     "output_type": "stream",
     "text": [
      "nickname is gnb\n",
      "Fitting 3 folds for each of 1 candidates, totalling 3 fits\n",
      "nickname is knn\n",
      "Fitting 3 folds for each of 4 candidates, totalling 12 fits\n"
     ]
    },
    {
     "name": "stderr",
     "output_type": "stream",
     "text": [
      "[Parallel(n_jobs=-1)]: Using backend LokyBackend with 4 concurrent workers.\n",
      "[Parallel(n_jobs=-1)]: Done   3 out of   3 | elapsed:    0.1s finished\n",
      "[Parallel(n_jobs=-1)]: Using backend LokyBackend with 4 concurrent workers.\n",
      "[Parallel(n_jobs=-1)]: Done  12 out of  12 | elapsed:  1.3min finished\n"
     ]
    }
   ],
   "source": [
    "fit_dict = {}\n",
    "cv_count = 3\n",
    "\n",
    "for sample_style in sample_list:\n",
    "    print(f'sample_style is {sample_style}')\n",
    "    fit_dict[sample_style] = {}\n",
    "    for nickname, model in model_dict.items():\n",
    "        print(f'nickname is {nickname}')\n",
    "        fit = GridSearchCV(model[0],model[1],cv=cv_count,scoring='roc_auc',iid=False,n_jobs = -1,verbose=1)\n",
    "        exec('fit.fit(X_train_st_' + sample_style + ', y_train_' + sample_style + ').best_estimator_')\n",
    "        fit_dict[sample_style][nickname] = fit\n",
    "        \n",
    "with open('fit_dict.pkl', 'wb') as handle:\n",
    "    pickle.dump(fit_dict, handle)"
   ]
  },
  {
   "cell_type": "code",
   "execution_count": 31,
   "metadata": {},
   "outputs": [],
   "source": [
    "with open('fit_dict.pkl', 'rb') as handle:\n",
    "    fit_dict = pickle.load(handle)"
   ]
  },
  {
   "cell_type": "code",
   "execution_count": 32,
   "metadata": {},
   "outputs": [
    {
     "data": {
      "text/plain": [
       "{'Original': {'log': GridSearchCV(cv=3, error_score='raise-deprecating',\n",
       "         estimator=LogisticRegression(C=1.0, class_weight=None, dual=False, fit_intercept=True,\n",
       "            intercept_scaling=1, max_iter=2000, multi_class='warn',\n",
       "            n_jobs=None, penalty='l2', random_state=0, solver='lbfgs',\n",
       "            tol=0.0001, verbose=0, warm_start=False),\n",
       "         fit_params=None, iid=False, n_jobs=-1,\n",
       "         param_grid={'C': [0.001, 0.004641588833612777, 0.021544346900318832, 0.1, 0.46415888336127775, 2.154434690031882, 10.0, 46.41588833612773, 215.44346900318823, 1000.0]},\n",
       "         pre_dispatch='2*n_jobs', refit=True, return_train_score='warn',\n",
       "         scoring='roc_auc', verbose=1),\n",
       "  'rfc': GridSearchCV(cv=3, error_score='raise-deprecating',\n",
       "         estimator=RandomForestClassifier(bootstrap=True, class_weight=None, criterion='gini',\n",
       "              max_depth=20, max_features='auto', max_leaf_nodes=None,\n",
       "              min_impurity_decrease=0.0, min_impurity_split=None,\n",
       "              min_samples_leaf=1, min_samples_split=2,\n",
       "              min_weight_fraction_leaf=0.0, n_estimators=200, n_jobs=None,\n",
       "              oob_score=False, random_state=0, verbose=0, warm_start=False),\n",
       "         fit_params=None, iid=False, n_jobs=-1,\n",
       "         param_grid={'criterion': ['entropy'], 'max_depth': [10, 15, 20, None], 'max_features': ['sqrt']},\n",
       "         pre_dispatch='2*n_jobs', refit=True, return_train_score='warn',\n",
       "         scoring='roc_auc', verbose=1),\n",
       "  'gnb': GridSearchCV(cv=3, error_score='raise-deprecating',\n",
       "         estimator=GaussianNB(priors=None, var_smoothing=1e-09),\n",
       "         fit_params=None, iid=False, n_jobs=-1, param_grid={},\n",
       "         pre_dispatch='2*n_jobs', refit=True, return_train_score='warn',\n",
       "         scoring='roc_auc', verbose=1),\n",
       "  'knn': GridSearchCV(cv=3, error_score='raise-deprecating',\n",
       "         estimator=KNeighborsClassifier(algorithm='auto', leaf_size=30, metric='minkowski',\n",
       "             metric_params=None, n_jobs=None, n_neighbors=5, p=2,\n",
       "             weights='uniform'),\n",
       "         fit_params=None, iid=False, n_jobs=-1,\n",
       "         param_grid={'n_neighbors': [3, 5, 11, 21]}, pre_dispatch='2*n_jobs',\n",
       "         refit=True, return_train_score='warn', scoring='roc_auc', verbose=1)},\n",
       " 'Upsample': {'log': GridSearchCV(cv=3, error_score='raise-deprecating',\n",
       "         estimator=LogisticRegression(C=1.0, class_weight=None, dual=False, fit_intercept=True,\n",
       "            intercept_scaling=1, max_iter=2000, multi_class='warn',\n",
       "            n_jobs=None, penalty='l2', random_state=0, solver='lbfgs',\n",
       "            tol=0.0001, verbose=0, warm_start=False),\n",
       "         fit_params=None, iid=False, n_jobs=-1,\n",
       "         param_grid={'C': [0.001, 0.004641588833612777, 0.021544346900318832, 0.1, 0.46415888336127775, 2.154434690031882, 10.0, 46.41588833612773, 215.44346900318823, 1000.0]},\n",
       "         pre_dispatch='2*n_jobs', refit=True, return_train_score='warn',\n",
       "         scoring='roc_auc', verbose=1),\n",
       "  'rfc': GridSearchCV(cv=3, error_score='raise-deprecating',\n",
       "         estimator=RandomForestClassifier(bootstrap=True, class_weight=None, criterion='gini',\n",
       "              max_depth=20, max_features='auto', max_leaf_nodes=None,\n",
       "              min_impurity_decrease=0.0, min_impurity_split=None,\n",
       "              min_samples_leaf=1, min_samples_split=2,\n",
       "              min_weight_fraction_leaf=0.0, n_estimators=200, n_jobs=None,\n",
       "              oob_score=False, random_state=0, verbose=0, warm_start=False),\n",
       "         fit_params=None, iid=False, n_jobs=-1,\n",
       "         param_grid={'criterion': ['entropy'], 'max_depth': [10, 15, 20, None], 'max_features': ['sqrt']},\n",
       "         pre_dispatch='2*n_jobs', refit=True, return_train_score='warn',\n",
       "         scoring='roc_auc', verbose=1),\n",
       "  'gnb': GridSearchCV(cv=3, error_score='raise-deprecating',\n",
       "         estimator=GaussianNB(priors=None, var_smoothing=1e-09),\n",
       "         fit_params=None, iid=False, n_jobs=-1, param_grid={},\n",
       "         pre_dispatch='2*n_jobs', refit=True, return_train_score='warn',\n",
       "         scoring='roc_auc', verbose=1),\n",
       "  'knn': GridSearchCV(cv=3, error_score='raise-deprecating',\n",
       "         estimator=KNeighborsClassifier(algorithm='auto', leaf_size=30, metric='minkowski',\n",
       "             metric_params=None, n_jobs=None, n_neighbors=5, p=2,\n",
       "             weights='uniform'),\n",
       "         fit_params=None, iid=False, n_jobs=-1,\n",
       "         param_grid={'n_neighbors': [3, 5, 11, 21]}, pre_dispatch='2*n_jobs',\n",
       "         refit=True, return_train_score='warn', scoring='roc_auc', verbose=1)},\n",
       " 'Smote': {'log': GridSearchCV(cv=3, error_score='raise-deprecating',\n",
       "         estimator=LogisticRegression(C=1.0, class_weight=None, dual=False, fit_intercept=True,\n",
       "            intercept_scaling=1, max_iter=2000, multi_class='warn',\n",
       "            n_jobs=None, penalty='l2', random_state=0, solver='lbfgs',\n",
       "            tol=0.0001, verbose=0, warm_start=False),\n",
       "         fit_params=None, iid=False, n_jobs=-1,\n",
       "         param_grid={'C': [0.001, 0.004641588833612777, 0.021544346900318832, 0.1, 0.46415888336127775, 2.154434690031882, 10.0, 46.41588833612773, 215.44346900318823, 1000.0]},\n",
       "         pre_dispatch='2*n_jobs', refit=True, return_train_score='warn',\n",
       "         scoring='roc_auc', verbose=1),\n",
       "  'rfc': GridSearchCV(cv=3, error_score='raise-deprecating',\n",
       "         estimator=RandomForestClassifier(bootstrap=True, class_weight=None, criterion='gini',\n",
       "              max_depth=20, max_features='auto', max_leaf_nodes=None,\n",
       "              min_impurity_decrease=0.0, min_impurity_split=None,\n",
       "              min_samples_leaf=1, min_samples_split=2,\n",
       "              min_weight_fraction_leaf=0.0, n_estimators=200, n_jobs=None,\n",
       "              oob_score=False, random_state=0, verbose=0, warm_start=False),\n",
       "         fit_params=None, iid=False, n_jobs=-1,\n",
       "         param_grid={'criterion': ['entropy'], 'max_depth': [10, 15, 20, None], 'max_features': ['sqrt']},\n",
       "         pre_dispatch='2*n_jobs', refit=True, return_train_score='warn',\n",
       "         scoring='roc_auc', verbose=1),\n",
       "  'gnb': GridSearchCV(cv=3, error_score='raise-deprecating',\n",
       "         estimator=GaussianNB(priors=None, var_smoothing=1e-09),\n",
       "         fit_params=None, iid=False, n_jobs=-1, param_grid={},\n",
       "         pre_dispatch='2*n_jobs', refit=True, return_train_score='warn',\n",
       "         scoring='roc_auc', verbose=1),\n",
       "  'knn': GridSearchCV(cv=3, error_score='raise-deprecating',\n",
       "         estimator=KNeighborsClassifier(algorithm='auto', leaf_size=30, metric='minkowski',\n",
       "             metric_params=None, n_jobs=None, n_neighbors=5, p=2,\n",
       "             weights='uniform'),\n",
       "         fit_params=None, iid=False, n_jobs=-1,\n",
       "         param_grid={'n_neighbors': [3, 5, 11, 21]}, pre_dispatch='2*n_jobs',\n",
       "         refit=True, return_train_score='warn', scoring='roc_auc', verbose=1)},\n",
       " 'ADASYN': {'log': GridSearchCV(cv=3, error_score='raise-deprecating',\n",
       "         estimator=LogisticRegression(C=1.0, class_weight=None, dual=False, fit_intercept=True,\n",
       "            intercept_scaling=1, max_iter=2000, multi_class='warn',\n",
       "            n_jobs=None, penalty='l2', random_state=0, solver='lbfgs',\n",
       "            tol=0.0001, verbose=0, warm_start=False),\n",
       "         fit_params=None, iid=False, n_jobs=-1,\n",
       "         param_grid={'C': [0.001, 0.004641588833612777, 0.021544346900318832, 0.1, 0.46415888336127775, 2.154434690031882, 10.0, 46.41588833612773, 215.44346900318823, 1000.0]},\n",
       "         pre_dispatch='2*n_jobs', refit=True, return_train_score='warn',\n",
       "         scoring='roc_auc', verbose=1),\n",
       "  'rfc': GridSearchCV(cv=3, error_score='raise-deprecating',\n",
       "         estimator=RandomForestClassifier(bootstrap=True, class_weight=None, criterion='gini',\n",
       "              max_depth=20, max_features='auto', max_leaf_nodes=None,\n",
       "              min_impurity_decrease=0.0, min_impurity_split=None,\n",
       "              min_samples_leaf=1, min_samples_split=2,\n",
       "              min_weight_fraction_leaf=0.0, n_estimators=200, n_jobs=None,\n",
       "              oob_score=False, random_state=0, verbose=0, warm_start=False),\n",
       "         fit_params=None, iid=False, n_jobs=-1,\n",
       "         param_grid={'criterion': ['entropy'], 'max_depth': [10, 15, 20, None], 'max_features': ['sqrt']},\n",
       "         pre_dispatch='2*n_jobs', refit=True, return_train_score='warn',\n",
       "         scoring='roc_auc', verbose=1),\n",
       "  'gnb': GridSearchCV(cv=3, error_score='raise-deprecating',\n",
       "         estimator=GaussianNB(priors=None, var_smoothing=1e-09),\n",
       "         fit_params=None, iid=False, n_jobs=-1, param_grid={},\n",
       "         pre_dispatch='2*n_jobs', refit=True, return_train_score='warn',\n",
       "         scoring='roc_auc', verbose=1),\n",
       "  'knn': GridSearchCV(cv=3, error_score='raise-deprecating',\n",
       "         estimator=KNeighborsClassifier(algorithm='auto', leaf_size=30, metric='minkowski',\n",
       "             metric_params=None, n_jobs=None, n_neighbors=5, p=2,\n",
       "             weights='uniform'),\n",
       "         fit_params=None, iid=False, n_jobs=-1,\n",
       "         param_grid={'n_neighbors': [3, 5, 11, 21]}, pre_dispatch='2*n_jobs',\n",
       "         refit=True, return_train_score='warn', scoring='roc_auc', verbose=1)}}"
      ]
     },
     "execution_count": 32,
     "metadata": {},
     "output_type": "execute_result"
    }
   ],
   "source": [
    "fit_dict"
   ]
  },
  {
   "cell_type": "code",
   "execution_count": 61,
   "metadata": {
    "scrolled": true
   },
   "outputs": [
    {
     "data": {
      "image/png": "[encoded data removed]",
      "text/plain": [
       "<Figure size 432x288 with 1 Axes>"
      ]
     },
     "metadata": {
      "needs_background": "light"
     },
     "output_type": "display_data"
    },
    {
     "data": {
      "image/png": "[encoded data removed]",
      "text/plain": [
       "<Figure size 432x288 with 1 Axes>"
      ]
     },
     "metadata": {
      "needs_background": "light"
     },
     "output_type": "display_data"
    },
    {
     "data": {
      "image/png": "[encoded data removed]",
      "text/plain": [
       "<Figure size 432x288 with 1 Axes>"
      ]
     },
     "metadata": {
      "needs_background": "light"
     },
     "output_type": "display_data"
    },
    {
     "data": {
      "image/png": "[encoded data removed]",
      "text/plain": [
       "<Figure size 432x288 with 1 Axes>"
      ]
     },
     "metadata": {
      "needs_background": "light"
     },
     "output_type": "display_data"
    }
   ],
   "source": [
    "for sample_style, fits in fit_dict.items():\n",
    "    plt.figure();\n",
    "    for fit_name, fit in fits.items():\n",
    "        fpr, tpr, thresholds = roc_curve(y_test, fit.predict_proba(X_test_st)[:,1])\n",
    "        plt.plot(fpr, tpr, lw = 2, label = fit_name)\n",
    "\n",
    "    plt.plot([0,1],[0,1],ls='--', lw = 2)\n",
    "\n",
    "    plt.legend(loc='lower right')\n",
    "\n",
    "    plt.xlabel('False positive rate')\n",
    "    plt.ylabel('True positive rate')\n",
    "    plt.title('ROC Curve ' + sample_style);\n",
    "    plt.show()\n"
   ]
  },
  {
   "cell_type": "code",
   "execution_count": null,
   "metadata": {},
   "outputs": [],
   "source": [
    "for sample_style, fits in fit_dict.items():\n",
    "    for fit_name, fit in fits.items():\n",
    "        print(sample_style)\n",
    "        print(fit_name)\n",
    "        print_summary(fit,X_test_st,y_test)"
   ]
  },
  {
   "cell_type": "code",
   "execution_count": 34,
   "metadata": {},
   "outputs": [],
   "source": [
    "stacked = StackingClassifier(\n",
    "    classifiers=[fit for fitname, fit in fit_dict['ADASYN'].items()], meta_classifier=RandomForestClassifier(), use_probas=True)"
   ]
  },
  {
   "cell_type": "code",
   "execution_count": 35,
   "metadata": {},
   "outputs": [
    {
     "name": "stdout",
     "output_type": "stream",
     "text": [
      "Fitting 3 folds for each of 10 candidates, totalling 30 fits\n"
     ]
    },
    {
     "name": "stderr",
     "output_type": "stream",
     "text": [
      "[Parallel(n_jobs=-1)]: Using backend LokyBackend with 4 concurrent workers.\n",
      "[Parallel(n_jobs=-1)]: Done  30 out of  30 | elapsed:    5.0s finished\n",
      "[Parallel(n_jobs=-1)]: Using backend LokyBackend with 4 concurrent workers.\n"
     ]
    },
    {
     "name": "stdout",
     "output_type": "stream",
     "text": [
      "Fitting 3 folds for each of 4 candidates, totalling 12 fits\n"
     ]
    },
    {
     "name": "stderr",
     "output_type": "stream",
     "text": [
      "[Parallel(n_jobs=-1)]: Done  12 out of  12 | elapsed:    8.9s finished\n"
     ]
    },
    {
     "name": "stdout",
     "output_type": "stream",
     "text": [
      "Fitting 3 folds for each of 1 candidates, totalling 3 fits\n",
      "Fitting 3 folds for each of 4 candidates, totalling 12 fits\n"
     ]
    },
    {
     "name": "stderr",
     "output_type": "stream",
     "text": [
      "[Parallel(n_jobs=-1)]: Using backend LokyBackend with 4 concurrent workers.\n",
      "[Parallel(n_jobs=-1)]: Done   3 out of   3 | elapsed:    0.1s finished\n",
      "[Parallel(n_jobs=-1)]: Using backend LokyBackend with 4 concurrent workers.\n",
      "[Parallel(n_jobs=-1)]: Done  12 out of  12 | elapsed:   41.6s finished\n",
      "/anaconda3/lib/python3.6/site-packages/sklearn/ensemble/forest.py:246: FutureWarning: The default value of n_estimators will change from 10 in version 0.20 to 100 in 0.22.\n",
      "  \"10 in version 0.20 to 100 in 0.22.\", FutureWarning)\n"
     ]
    },
    {
     "data": {
      "text/plain": [
       "StackingClassifier(average_probas=False,\n",
       "          classifiers=[GridSearchCV(cv=3, error_score='raise-deprecating',\n",
       "       estimator=LogisticRegression(C=1.0, class_weight=None, dual=False, fit_intercept=True,\n",
       "          intercept_scaling=1, max_iter=2000, multi_class='warn',\n",
       "          n_jobs=None, penalty='l2', random_state=0, solver='lbfgs',\n",
       "      ...re_dispatch='2*n_jobs',\n",
       "       refit=True, return_train_score='warn', scoring='roc_auc', verbose=1)],\n",
       "          meta_classifier=RandomForestClassifier(bootstrap=True, class_weight=None, criterion='gini',\n",
       "            max_depth=None, max_features='auto', max_leaf_nodes=None,\n",
       "            min_impurity_decrease=0.0, min_impurity_split=None,\n",
       "            min_samples_leaf=1, min_samples_split=2,\n",
       "            min_weight_fraction_leaf=0.0, n_estimators='warn', n_jobs=None,\n",
       "            oob_score=False, random_state=None, verbose=0,\n",
       "            warm_start=False),\n",
       "          store_train_meta_features=False, use_clones=True,\n",
       "          use_features_in_secondary=False, use_probas=True, verbose=0)"
      ]
     },
     "execution_count": 35,
     "metadata": {},
     "output_type": "execute_result"
    }
   ],
   "source": [
    "stacked.fit(X_train_st, y_train)"
   ]
  },
  {
   "cell_type": "code",
   "execution_count": 37,
   "metadata": {
    "scrolled": false
   },
   "outputs": [
    {
     "name": "stdout",
     "output_type": "stream",
     "text": [
      "f1 score: 0.678191489361702\n",
      "precision score: 0.7327586206896551\n",
      "recall score: 0.6311881188118812\n",
      "log loss: 3.389480231196024\n",
      "roc auc: 0.793043137970441\n",
      "conf matrix: \n",
      " [[1969   93]\n",
      " [ 149  255]]\n"
     ]
    }
   ],
   "source": [
    "print_summary(stacked,X_test_st,y_test)"
   ]
  },
  {
   "cell_type": "code",
   "execution_count": 40,
   "metadata": {
    "scrolled": true
   },
   "outputs": [
    {
     "name": "stdout",
     "output_type": "stream",
     "text": [
      "f1 score: 0.7374562427071178\n",
      "precision score: 0.6975717439293598\n",
      "recall score: 0.7821782178217822\n",
      "log loss: 3.151392633293934\n",
      "roc auc: 0.8578689343231122\n",
      "conf matrix: \n",
      " [[1925  137]\n",
      " [  88  316]]\n"
     ]
    }
   ],
   "source": [
    "print_summary(fit_dict['ADASYN']['rfc'],X_test_st,y_test)"
   ]
  },
  {
   "cell_type": "code",
   "execution_count": 50,
   "metadata": {},
   "outputs": [],
   "source": [
    "best_model = fit_dict['ADASYN']['rfc'].best_estimator_"
   ]
  },
  {
   "cell_type": "code",
   "execution_count": 62,
   "metadata": {},
   "outputs": [
    {
     "name": "stdout",
     "output_type": "stream",
     "text": [
      "PageValues\n",
      "Administrative\n",
      "ProductRelated_Duration\n",
      "ExitRates\n",
      "ProductRelated\n",
      "Administrative_Duration\n",
      "BounceRates\n",
      "Month_Nov\n",
      "Informational\n",
      "TrafficType_2\n"
     ]
    }
   ],
   "source": [
    "important_features = pd.Series(best_model.feature_importances_).nlargest(10).index\n",
    "for i in important_features:\n",
    "    print(X.columns[i])"
   ]
  },
  {
   "cell_type": "code",
   "execution_count": 53,
   "metadata": {},
   "outputs": [
    {
     "data": {
      "image/png": "[encoded data removed]",
      "text/plain": [
       "<Figure size 432x288 with 1 Axes>"
      ]
     },
     "metadata": {
      "needs_background": "light"
     },
     "output_type": "display_data"
    }
   ],
   "source": [
    "plt.hist(best_model.predict_proba(X_test_st)[:,1]);"
   ]
  },
  {
   "cell_type": "code",
   "execution_count": 60,
   "metadata": {},
   "outputs": [
    {
     "name": "stdout",
     "output_type": "stream",
     "text": [
      "cost is -9502 and threshold is 0.0\n",
      "tp is 404, fp is 2062, tn is 0, fn is 0\n",
      "cost is -7396 and threshold is 0.01\n",
      "tp is 403, fp is 1640, tn is 422, fn is 1\n",
      "cost is -6310 and threshold is 0.02\n",
      "tp is 402, fp is 1422, tn is 640, fn is 2\n",
      "cost is -5540 and threshold is 0.03\n",
      "tp is 402, fp is 1268, tn is 794, fn is 2\n",
      "cost is -4769 and threshold is 0.04\n",
      "tp is 401, fp is 1113, tn is 949, fn is 3\n",
      "cost is -4185 and threshold is 0.05\n",
      "tp is 397, fp is 993, tn is 1069, fn is 7\n",
      "cost is -3635 and threshold is 0.06\n",
      "tp is 397, fp is 883, tn is 1179, fn is 7\n",
      "cost is -3274 and threshold is 0.07\n",
      "tp is 396, fp is 810, tn is 1252, fn is 8\n",
      "cost is -2969 and threshold is 0.08\n",
      "tp is 396, fp is 749, tn is 1313, fn is 8\n",
      "cost is -2731 and threshold is 0.09\n",
      "tp is 388, fp is 695, tn is 1367, fn is 16\n",
      "cost is -2481 and threshold is 0.1\n",
      "tp is 383, fp is 641, tn is 1421, fn is 21\n",
      "cost is -2281 and threshold is 0.11\n",
      "tp is 383, fp is 601, tn is 1461, fn is 21\n",
      "cost is -2050 and threshold is 0.12\n",
      "tp is 382, fp is 554, tn is 1508, fn is 22\n",
      "cost is -1932 and threshold is 0.13\n",
      "tp is 379, fp is 528, tn is 1534, fn is 25\n",
      "cost is -1838 and threshold is 0.14\n",
      "tp is 375, fp is 506, tn is 1556, fn is 29\n",
      "cost is -1662 and threshold is 0.15\n",
      "tp is 374, fp is 470, tn is 1592, fn is 30\n",
      "cost is -1531 and threshold is 0.16\n",
      "tp is 373, fp is 443, tn is 1619, fn is 31\n",
      "cost is -1433 and threshold is 0.17\n",
      "tp is 370, fp is 421, tn is 1641, fn is 34\n",
      "cost is -1376 and threshold is 0.18\n",
      "tp is 368, fp is 408, tn is 1654, fn is 36\n",
      "cost is -1296 and threshold is 0.19\n",
      "tp is 368, fp is 392, tn is 1670, fn is 36\n",
      "cost is -1200 and threshold is 0.2\n",
      "tp is 367, fp is 372, tn is 1690, fn is 37\n",
      "cost is -1130 and threshold is 0.21\n",
      "tp is 367, fp is 358, tn is 1704, fn is 37\n",
      "cost is -1074 and threshold is 0.22\n",
      "tp is 366, fp is 346, tn is 1716, fn is 38\n",
      "cost is -1018 and threshold is 0.23\n",
      "tp is 365, fp is 334, tn is 1728, fn is 39\n",
      "cost is -984 and threshold is 0.24\n",
      "tp is 361, fp is 324, tn is 1738, fn is 43\n",
      "cost is -953 and threshold is 0.25\n",
      "tp is 360, fp is 317, tn is 1745, fn is 44\n",
      "cost is -902 and threshold is 0.26\n",
      "tp is 359, fp is 306, tn is 1756, fn is 45\n",
      "cost is -855 and threshold is 0.27\n",
      "tp is 357, fp is 295, tn is 1767, fn is 47\n",
      "cost is -808 and threshold is 0.28\n",
      "tp is 355, fp is 284, tn is 1778, fn is 49\n",
      "cost is -792 and threshold is 0.29\n",
      "tp is 354, fp is 280, tn is 1782, fn is 50\n",
      "cost is -773 and threshold is 0.3\n",
      "tp is 350, fp is 273, tn is 1789, fn is 54\n",
      "cost is -738 and threshold is 0.31\n",
      "tp is 350, fp is 266, tn is 1796, fn is 54\n",
      "cost is -705 and threshold is 0.32\n",
      "tp is 347, fp is 257, tn is 1805, fn is 57\n",
      "cost is -668 and threshold is 0.33\n",
      "tp is 345, fp is 248, tn is 1814, fn is 59\n",
      "cost is -636 and threshold is 0.34\n",
      "tp is 343, fp is 240, tn is 1822, fn is 61\n",
      "cost is -613 and threshold is 0.35000000000000003\n",
      "tp is 340, fp is 233, tn is 1829, fn is 64\n",
      "cost is -588 and threshold is 0.36\n",
      "tp is 340, fp is 228, tn is 1834, fn is 64\n",
      "cost is -560 and threshold is 0.37\n",
      "tp is 337, fp is 220, tn is 1842, fn is 67\n",
      "cost is -538 and threshold is 0.38\n",
      "tp is 335, fp is 214, tn is 1848, fn is 69\n",
      "cost is -522 and threshold is 0.39\n",
      "tp is 334, fp is 210, tn is 1852, fn is 70\n",
      "cost is -501 and threshold is 0.4\n",
      "tp is 333, fp is 205, tn is 1857, fn is 71\n",
      "cost is -478 and threshold is 0.41000000000000003\n",
      "tp is 330, fp is 198, tn is 1864, fn is 74\n",
      "cost is -457 and threshold is 0.42\n",
      "tp is 329, fp is 193, tn is 1869, fn is 75\n",
      "cost is -421 and threshold is 0.43\n",
      "tp is 328, fp is 185, tn is 1877, fn is 76\n",
      "cost is -390 and threshold is 0.44\n",
      "tp is 327, fp is 178, tn is 1884, fn is 77\n",
      "cost is -365 and threshold is 0.45\n",
      "tp is 327, fp is 173, tn is 1889, fn is 77\n",
      "cost is -324 and threshold is 0.46\n",
      "tp is 326, fp is 164, tn is 1898, fn is 78\n",
      "cost is -317 and threshold is 0.47000000000000003\n",
      "tp is 319, fp is 157, tn is 1905, fn is 85\n",
      "cost is -297 and threshold is 0.48\n",
      "tp is 319, fp is 153, tn is 1909, fn is 85\n",
      "cost is -257 and threshold is 0.49\n",
      "tp is 319, fp is 145, tn is 1917, fn is 85\n",
      "cost is -225 and threshold is 0.5\n",
      "tp is 317, fp is 137, tn is 1925, fn is 87\n",
      "cost is -237 and threshold is 0.51\n",
      "tp is 314, fp is 137, tn is 1925, fn is 90\n",
      "cost is -224 and threshold is 0.52\n",
      "tp is 311, fp is 132, tn is 1930, fn is 93\n",
      "cost is -221 and threshold is 0.53\n",
      "tp is 308, fp is 129, tn is 1933, fn is 96\n",
      "cost is -227 and threshold is 0.54\n",
      "tp is 304, fp is 127, tn is 1935, fn is 100\n",
      "cost is -247 and threshold is 0.55\n",
      "tp is 294, fp is 123, tn is 1939, fn is 110\n",
      "cost is -221 and threshold is 0.56\n",
      "tp is 288, fp is 113, tn is 1949, fn is 116\n",
      "cost is -259 and threshold is 0.5700000000000001\n",
      "tp is 276, fp is 111, tn is 1951, fn is 128\n",
      "cost is -242 and threshold is 0.58\n",
      "tp is 274, fp is 106, tn is 1956, fn is 130\n",
      "cost is -264 and threshold is 0.59\n",
      "tp is 266, fp is 104, tn is 1958, fn is 138\n",
      "cost is -254 and threshold is 0.6\n",
      "tp is 261, fp is 98, tn is 1964, fn is 143\n",
      "cost is -241 and threshold is 0.61\n",
      "tp is 258, fp is 93, tn is 1969, fn is 146\n",
      "cost is -215 and threshold is 0.62\n",
      "tp is 257, fp is 87, tn is 1975, fn is 147\n",
      "cost is -203 and threshold is 0.63\n",
      "tp is 255, fp is 83, tn is 1979, fn is 149\n",
      "cost is -218 and threshold is 0.64\n",
      "tp is 245, fp is 78, tn is 1984, fn is 159\n",
      "cost is -218 and threshold is 0.65\n",
      "tp is 240, fp is 74, tn is 1988, fn is 164\n",
      "cost is -212 and threshold is 0.66\n",
      "tp is 234, fp is 68, tn is 1994, fn is 170\n",
      "cost is -211 and threshold is 0.67\n",
      "tp is 228, fp is 63, tn is 1999, fn is 176\n",
      "cost is -231 and threshold is 0.68\n",
      "tp is 218, fp is 59, tn is 2003, fn is 186\n",
      "cost is -255 and threshold is 0.6900000000000001\n",
      "tp is 207, fp is 55, tn is 2007, fn is 197\n",
      "cost is -267 and threshold is 0.7000000000000001\n",
      "tp is 199, fp is 51, tn is 2011, fn is 205\n",
      "cost is -277 and threshold is 0.71\n",
      "tp is 194, fp is 49, tn is 2013, fn is 210\n",
      "cost is -298 and threshold is 0.72\n",
      "tp is 185, fp is 46, tn is 2016, fn is 219\n",
      "cost is -323 and threshold is 0.73\n",
      "tp is 175, fp is 43, tn is 2019, fn is 229\n",
      "cost is -336 and threshold is 0.74\n",
      "tp is 168, fp is 40, tn is 2022, fn is 236\n",
      "cost is -345 and threshold is 0.75\n",
      "tp is 162, fp is 37, tn is 2025, fn is 242\n",
      "cost is -363 and threshold is 0.76\n",
      "tp is 155, fp is 35, tn is 2027, fn is 249\n",
      "cost is -364 and threshold is 0.77\n",
      "tp is 151, fp is 32, tn is 2030, fn is 253\n",
      "cost is -389 and threshold is 0.78\n",
      "tp is 141, fp is 29, tn is 2033, fn is 263\n",
      "cost is -417 and threshold is 0.79\n",
      "tp is 129, fp is 25, tn is 2037, fn is 275\n",
      "cost is -451 and threshold is 0.8\n",
      "tp is 118, fp is 23, tn is 2039, fn is 286\n",
      "cost is -469 and threshold is 0.81\n",
      "tp is 111, fp is 21, tn is 2041, fn is 293\n",
      "cost is -510 and threshold is 0.8200000000000001\n",
      "tp is 97, fp is 18, tn is 2044, fn is 307\n",
      "cost is -548 and threshold is 0.8300000000000001\n",
      "tp is 85, fp is 16, tn is 2046, fn is 319\n",
      "cost is -560 and threshold is 0.84\n",
      "tp is 82, fp is 16, tn is 2046, fn is 322\n",
      "cost is -591 and threshold is 0.85\n",
      "tp is 73, fp is 15, tn is 2047, fn is 331\n",
      "cost is -611 and threshold is 0.86\n",
      "tp is 63, fp is 11, tn is 2051, fn is 341\n",
      "cost is -634 and threshold is 0.87\n",
      "tp is 56, fp is 10, tn is 2052, fn is 348\n",
      "cost is -660 and threshold is 0.88\n",
      "tp is 47, fp is 8, tn is 2054, fn is 357\n",
      "cost is -700 and threshold is 0.89\n",
      "tp is 37, fp is 8, tn is 2054, fn is 367\n",
      "cost is -716 and threshold is 0.9\n",
      "tp is 28, fp is 4, tn is 2058, fn is 376\n",
      "cost is -723 and threshold is 0.91\n",
      "tp is 25, fp is 3, tn is 2059, fn is 379\n",
      "cost is -751 and threshold is 0.92\n",
      "tp is 18, fp is 3, tn is 2059, fn is 386\n",
      "cost is -762 and threshold is 0.93\n",
      "tp is 14, fp is 2, tn is 2060, fn is 390\n",
      "cost is -764 and threshold is 0.9400000000000001\n",
      "tp is 11, fp is 0, tn is 2062, fn is 393\n",
      "cost is -776 and threshold is 0.9500000000000001\n",
      "tp is 8, fp is 0, tn is 2062, fn is 396\n",
      "cost is -780 and threshold is 0.96\n",
      "tp is 7, fp is 0, tn is 2062, fn is 397\n",
      "cost is -784 and threshold is 0.97\n",
      "tp is 6, fp is 0, tn is 2062, fn is 398\n",
      "cost is -804 and threshold is 0.98\n",
      "tp is 1, fp is 0, tn is 2062, fn is 403\n",
      "cost is -808 and threshold is 0.99\n",
      "tp is 0, fp is 0, tn is 2062, fn is 404\n",
      "cost is -808 and threshold is 1.0\n",
      "tp is 0, fp is 0, tn is 2062, fn is 404\n",
      "Optimal threshold is: 0.63\n"
     ]
    }
   ],
   "source": [
    "# optimizing threshold\n",
    "probabilities = best_model.predict_proba(X_test_st)[:,1]\n",
    "reals = y_test\n",
    "best_cost = -10**10\n",
    "best_thresh = 0\n",
    "\n",
    "for threshold in np.linspace(0,1,101):\n",
    "    predictions = probabilities >= threshold\n",
    "    tp = sum((reals == 1) & (predictions == 1))\n",
    "    fp = sum((reals == 0) & (predictions == 1))\n",
    "    tn = sum((reals == 0) & (predictions == 0))\n",
    "    fn = sum((reals == 1) & (predictions == 0))\n",
    "    tp_c = 2\n",
    "    fp_c = -5\n",
    "    tn_c = 0\n",
    "    fn_c = -2\n",
    "    cost = tp*tp_c + fp*fp_c + tn*tn_c + fn*fn_c\n",
    "    if cost > best_cost:\n",
    "        best_cost = cost\n",
    "        best_thresh = threshold\n",
    "    print(f'cost is {cost} and threshold is {threshold}')\n",
    "    print(f'tp is {tp}, fp is {fp}, tn is {tn}, fn is {fn}')\n",
    "        \n",
    "print(f'Optimal threshold is: {best_thresh}')"
   ]
  },
  {
   "cell_type": "code",
   "execution_count": 57,
   "metadata": {},
   "outputs": [
    {
     "data": {
      "image/png": "[encoded data removed]",
      "text/plain": [
       "<Figure size 432x288 with 1 Axes>"
      ]
     },
     "metadata": {
      "needs_background": "light"
     },
     "output_type": "display_data"
    }
   ],
   "source": [
    "precision_curve, recall_curve, threshold_curve = precision_recall_curve(y_test, best_model.predict_proba(X_test_st)[:,1])\n",
    "plt.plot(threshold_curve, recall_curve[1:,], lw = 2, label = \"recall\")\n",
    "plt.plot(threshold_curve, precision_curve[1:,], lw = 2, label = \"precision\")\n",
    "\n",
    "plt.legend(loc='lower left')\n",
    "\n",
    "plt.xlabel('Threshold')\n",
    "plt.title('Precision and Recall Curves');"
   ]
  }
 ],
 "metadata": {
  "kernelspec": {
   "display_name": "Python 3",
   "language": "python",
   "name": "python3"
  },
  "language_info": {
   "codemirror_mode": {
    "name": "ipython",
    "version": 3
   },
   "file_extension": ".py",
   "mimetype": "text/x-python",
   "name": "python",
   "nbconvert_exporter": "python",
   "pygments_lexer": "ipython3",
   "version": "3.6.8"
  }
 },
 "nbformat": 4,
 "nbformat_minor": 2
}
