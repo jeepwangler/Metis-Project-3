{
 "cells": [
  {
   "cell_type": "code",
   "execution_count": 62,
   "metadata": {},
   "outputs": [],
   "source": [
    "import pandas as pd\n",
    "import numpy as np\n",
    "import pickle\n",
    "from sklearn.preprocessing import StandardScaler\n",
    "from sklearn.linear_model import LogisticRegression\n",
    "from sklearn.ensemble import RandomForestClassifier\n",
    "from sklearn.naive_bayes import GaussianNB\n",
    "from sklearn.svm import SVC\n",
    "from xgboost import XGBClassifier\n",
    "from sklearn.neighbors import KNeighborsClassifier\n",
    "from sklearn.model_selection import train_test_split\n",
    "from sklearn.metrics import f1_score, recall_score, precision_score, log_loss, roc_auc_score, confusion_matrix\n",
    "from sklearn.model_selection import GridSearchCV\n",
    "from imblearn.over_sampling import RandomOverSampler\n",
    "from imblearn.over_sampling import ADASYN\n",
    "from imblearn.over_sampling import SMOTE\n",
    "from mlxtend.classifier import StackingClassifier\n",
    "import matplotlib.pyplot as plt\n",
    "import seaborn as sns\n",
    "pd.options.display.max_columns = 200"
   ]
  },
  {
   "cell_type": "code",
   "execution_count": 47,
   "metadata": {},
   "outputs": [],
   "source": [
    "df = pd.read_csv('online_shoppers_intention.csv')"
   ]
  },
  {
   "cell_type": "code",
   "execution_count": 48,
   "metadata": {},
   "outputs": [],
   "source": [
    "to_dummy = ['Month','OperatingSystems','Browser','Region','TrafficType','VisitorType']\n",
    "\n",
    "for vari in to_dummy:\n",
    "    df = pd.concat([df, pd.get_dummies(df[vari],drop_first=True,prefix=vari)], axis=1)\n",
    "    df.drop(vari, axis=1, inplace=True)"
   ]
  },
  {
   "cell_type": "code",
   "execution_count": 49,
   "metadata": {},
   "outputs": [
    {
     "data": {
      "text/html": [
       "<div>\n",
       "<style scoped>\n",
       "    .dataframe tbody tr th:only-of-type {\n",
       "        vertical-align: middle;\n",
       "    }\n",
       "\n",
       "    .dataframe tbody tr th {\n",
       "        vertical-align: top;\n",
       "    }\n",
       "\n",
       "    .dataframe thead th {\n",
       "        text-align: right;\n",
       "    }\n",
       "</style>\n",
       "<table border=\"1\" class=\"dataframe\">\n",
       "  <thead>\n",
       "    <tr style=\"text-align: right;\">\n",
       "      <th></th>\n",
       "      <th>Administrative</th>\n",
       "      <th>Administrative_Duration</th>\n",
       "      <th>Informational</th>\n",
       "      <th>Informational_Duration</th>\n",
       "      <th>ProductRelated</th>\n",
       "      <th>ProductRelated_Duration</th>\n",
       "      <th>BounceRates</th>\n",
       "      <th>ExitRates</th>\n",
       "      <th>PageValues</th>\n",
       "      <th>SpecialDay</th>\n",
       "      <th>Weekend</th>\n",
       "      <th>Revenue</th>\n",
       "      <th>Month_Dec</th>\n",
       "      <th>Month_Feb</th>\n",
       "      <th>Month_Jul</th>\n",
       "      <th>Month_June</th>\n",
       "      <th>Month_Mar</th>\n",
       "      <th>Month_May</th>\n",
       "      <th>Month_Nov</th>\n",
       "      <th>Month_Oct</th>\n",
       "      <th>Month_Sep</th>\n",
       "      <th>OperatingSystems_2</th>\n",
       "      <th>OperatingSystems_3</th>\n",
       "      <th>OperatingSystems_4</th>\n",
       "      <th>OperatingSystems_5</th>\n",
       "      <th>OperatingSystems_6</th>\n",
       "      <th>OperatingSystems_7</th>\n",
       "      <th>OperatingSystems_8</th>\n",
       "      <th>Browser_2</th>\n",
       "      <th>Browser_3</th>\n",
       "      <th>Browser_4</th>\n",
       "      <th>Browser_5</th>\n",
       "      <th>Browser_6</th>\n",
       "      <th>Browser_7</th>\n",
       "      <th>Browser_8</th>\n",
       "      <th>Browser_9</th>\n",
       "      <th>Browser_10</th>\n",
       "      <th>Browser_11</th>\n",
       "      <th>Browser_12</th>\n",
       "      <th>Browser_13</th>\n",
       "      <th>Region_2</th>\n",
       "      <th>Region_3</th>\n",
       "      <th>Region_4</th>\n",
       "      <th>Region_5</th>\n",
       "      <th>Region_6</th>\n",
       "      <th>Region_7</th>\n",
       "      <th>Region_8</th>\n",
       "      <th>Region_9</th>\n",
       "      <th>TrafficType_2</th>\n",
       "      <th>TrafficType_3</th>\n",
       "      <th>TrafficType_4</th>\n",
       "      <th>TrafficType_5</th>\n",
       "      <th>TrafficType_6</th>\n",
       "      <th>TrafficType_7</th>\n",
       "      <th>TrafficType_8</th>\n",
       "      <th>TrafficType_9</th>\n",
       "      <th>TrafficType_10</th>\n",
       "      <th>TrafficType_11</th>\n",
       "      <th>TrafficType_12</th>\n",
       "      <th>TrafficType_13</th>\n",
       "      <th>TrafficType_14</th>\n",
       "      <th>TrafficType_15</th>\n",
       "      <th>TrafficType_16</th>\n",
       "      <th>TrafficType_17</th>\n",
       "      <th>TrafficType_18</th>\n",
       "      <th>TrafficType_19</th>\n",
       "      <th>TrafficType_20</th>\n",
       "      <th>VisitorType_Other</th>\n",
       "      <th>VisitorType_Returning_Visitor</th>\n",
       "    </tr>\n",
       "  </thead>\n",
       "  <tbody>\n",
       "    <tr>\n",
       "      <th>0</th>\n",
       "      <td>0</td>\n",
       "      <td>0.0</td>\n",
       "      <td>0</td>\n",
       "      <td>0.0</td>\n",
       "      <td>1</td>\n",
       "      <td>0.000000</td>\n",
       "      <td>0.20</td>\n",
       "      <td>0.20</td>\n",
       "      <td>0.0</td>\n",
       "      <td>0.0</td>\n",
       "      <td>False</td>\n",
       "      <td>False</td>\n",
       "      <td>0</td>\n",
       "      <td>1</td>\n",
       "      <td>0</td>\n",
       "      <td>0</td>\n",
       "      <td>0</td>\n",
       "      <td>0</td>\n",
       "      <td>0</td>\n",
       "      <td>0</td>\n",
       "      <td>0</td>\n",
       "      <td>0</td>\n",
       "      <td>0</td>\n",
       "      <td>0</td>\n",
       "      <td>0</td>\n",
       "      <td>0</td>\n",
       "      <td>0</td>\n",
       "      <td>0</td>\n",
       "      <td>0</td>\n",
       "      <td>0</td>\n",
       "      <td>0</td>\n",
       "      <td>0</td>\n",
       "      <td>0</td>\n",
       "      <td>0</td>\n",
       "      <td>0</td>\n",
       "      <td>0</td>\n",
       "      <td>0</td>\n",
       "      <td>0</td>\n",
       "      <td>0</td>\n",
       "      <td>0</td>\n",
       "      <td>0</td>\n",
       "      <td>0</td>\n",
       "      <td>0</td>\n",
       "      <td>0</td>\n",
       "      <td>0</td>\n",
       "      <td>0</td>\n",
       "      <td>0</td>\n",
       "      <td>0</td>\n",
       "      <td>0</td>\n",
       "      <td>0</td>\n",
       "      <td>0</td>\n",
       "      <td>0</td>\n",
       "      <td>0</td>\n",
       "      <td>0</td>\n",
       "      <td>0</td>\n",
       "      <td>0</td>\n",
       "      <td>0</td>\n",
       "      <td>0</td>\n",
       "      <td>0</td>\n",
       "      <td>0</td>\n",
       "      <td>0</td>\n",
       "      <td>0</td>\n",
       "      <td>0</td>\n",
       "      <td>0</td>\n",
       "      <td>0</td>\n",
       "      <td>0</td>\n",
       "      <td>0</td>\n",
       "      <td>0</td>\n",
       "      <td>1</td>\n",
       "    </tr>\n",
       "    <tr>\n",
       "      <th>1</th>\n",
       "      <td>0</td>\n",
       "      <td>0.0</td>\n",
       "      <td>0</td>\n",
       "      <td>0.0</td>\n",
       "      <td>2</td>\n",
       "      <td>64.000000</td>\n",
       "      <td>0.00</td>\n",
       "      <td>0.10</td>\n",
       "      <td>0.0</td>\n",
       "      <td>0.0</td>\n",
       "      <td>False</td>\n",
       "      <td>False</td>\n",
       "      <td>0</td>\n",
       "      <td>1</td>\n",
       "      <td>0</td>\n",
       "      <td>0</td>\n",
       "      <td>0</td>\n",
       "      <td>0</td>\n",
       "      <td>0</td>\n",
       "      <td>0</td>\n",
       "      <td>0</td>\n",
       "      <td>1</td>\n",
       "      <td>0</td>\n",
       "      <td>0</td>\n",
       "      <td>0</td>\n",
       "      <td>0</td>\n",
       "      <td>0</td>\n",
       "      <td>0</td>\n",
       "      <td>1</td>\n",
       "      <td>0</td>\n",
       "      <td>0</td>\n",
       "      <td>0</td>\n",
       "      <td>0</td>\n",
       "      <td>0</td>\n",
       "      <td>0</td>\n",
       "      <td>0</td>\n",
       "      <td>0</td>\n",
       "      <td>0</td>\n",
       "      <td>0</td>\n",
       "      <td>0</td>\n",
       "      <td>0</td>\n",
       "      <td>0</td>\n",
       "      <td>0</td>\n",
       "      <td>0</td>\n",
       "      <td>0</td>\n",
       "      <td>0</td>\n",
       "      <td>0</td>\n",
       "      <td>0</td>\n",
       "      <td>1</td>\n",
       "      <td>0</td>\n",
       "      <td>0</td>\n",
       "      <td>0</td>\n",
       "      <td>0</td>\n",
       "      <td>0</td>\n",
       "      <td>0</td>\n",
       "      <td>0</td>\n",
       "      <td>0</td>\n",
       "      <td>0</td>\n",
       "      <td>0</td>\n",
       "      <td>0</td>\n",
       "      <td>0</td>\n",
       "      <td>0</td>\n",
       "      <td>0</td>\n",
       "      <td>0</td>\n",
       "      <td>0</td>\n",
       "      <td>0</td>\n",
       "      <td>0</td>\n",
       "      <td>0</td>\n",
       "      <td>1</td>\n",
       "    </tr>\n",
       "    <tr>\n",
       "      <th>2</th>\n",
       "      <td>0</td>\n",
       "      <td>0.0</td>\n",
       "      <td>0</td>\n",
       "      <td>0.0</td>\n",
       "      <td>1</td>\n",
       "      <td>0.000000</td>\n",
       "      <td>0.20</td>\n",
       "      <td>0.20</td>\n",
       "      <td>0.0</td>\n",
       "      <td>0.0</td>\n",
       "      <td>False</td>\n",
       "      <td>False</td>\n",
       "      <td>0</td>\n",
       "      <td>1</td>\n",
       "      <td>0</td>\n",
       "      <td>0</td>\n",
       "      <td>0</td>\n",
       "      <td>0</td>\n",
       "      <td>0</td>\n",
       "      <td>0</td>\n",
       "      <td>0</td>\n",
       "      <td>0</td>\n",
       "      <td>0</td>\n",
       "      <td>1</td>\n",
       "      <td>0</td>\n",
       "      <td>0</td>\n",
       "      <td>0</td>\n",
       "      <td>0</td>\n",
       "      <td>0</td>\n",
       "      <td>0</td>\n",
       "      <td>0</td>\n",
       "      <td>0</td>\n",
       "      <td>0</td>\n",
       "      <td>0</td>\n",
       "      <td>0</td>\n",
       "      <td>0</td>\n",
       "      <td>0</td>\n",
       "      <td>0</td>\n",
       "      <td>0</td>\n",
       "      <td>0</td>\n",
       "      <td>0</td>\n",
       "      <td>0</td>\n",
       "      <td>0</td>\n",
       "      <td>0</td>\n",
       "      <td>0</td>\n",
       "      <td>0</td>\n",
       "      <td>0</td>\n",
       "      <td>1</td>\n",
       "      <td>0</td>\n",
       "      <td>1</td>\n",
       "      <td>0</td>\n",
       "      <td>0</td>\n",
       "      <td>0</td>\n",
       "      <td>0</td>\n",
       "      <td>0</td>\n",
       "      <td>0</td>\n",
       "      <td>0</td>\n",
       "      <td>0</td>\n",
       "      <td>0</td>\n",
       "      <td>0</td>\n",
       "      <td>0</td>\n",
       "      <td>0</td>\n",
       "      <td>0</td>\n",
       "      <td>0</td>\n",
       "      <td>0</td>\n",
       "      <td>0</td>\n",
       "      <td>0</td>\n",
       "      <td>0</td>\n",
       "      <td>1</td>\n",
       "    </tr>\n",
       "    <tr>\n",
       "      <th>3</th>\n",
       "      <td>0</td>\n",
       "      <td>0.0</td>\n",
       "      <td>0</td>\n",
       "      <td>0.0</td>\n",
       "      <td>2</td>\n",
       "      <td>2.666667</td>\n",
       "      <td>0.05</td>\n",
       "      <td>0.14</td>\n",
       "      <td>0.0</td>\n",
       "      <td>0.0</td>\n",
       "      <td>False</td>\n",
       "      <td>False</td>\n",
       "      <td>0</td>\n",
       "      <td>1</td>\n",
       "      <td>0</td>\n",
       "      <td>0</td>\n",
       "      <td>0</td>\n",
       "      <td>0</td>\n",
       "      <td>0</td>\n",
       "      <td>0</td>\n",
       "      <td>0</td>\n",
       "      <td>0</td>\n",
       "      <td>1</td>\n",
       "      <td>0</td>\n",
       "      <td>0</td>\n",
       "      <td>0</td>\n",
       "      <td>0</td>\n",
       "      <td>0</td>\n",
       "      <td>1</td>\n",
       "      <td>0</td>\n",
       "      <td>0</td>\n",
       "      <td>0</td>\n",
       "      <td>0</td>\n",
       "      <td>0</td>\n",
       "      <td>0</td>\n",
       "      <td>0</td>\n",
       "      <td>0</td>\n",
       "      <td>0</td>\n",
       "      <td>0</td>\n",
       "      <td>0</td>\n",
       "      <td>1</td>\n",
       "      <td>0</td>\n",
       "      <td>0</td>\n",
       "      <td>0</td>\n",
       "      <td>0</td>\n",
       "      <td>0</td>\n",
       "      <td>0</td>\n",
       "      <td>0</td>\n",
       "      <td>0</td>\n",
       "      <td>0</td>\n",
       "      <td>1</td>\n",
       "      <td>0</td>\n",
       "      <td>0</td>\n",
       "      <td>0</td>\n",
       "      <td>0</td>\n",
       "      <td>0</td>\n",
       "      <td>0</td>\n",
       "      <td>0</td>\n",
       "      <td>0</td>\n",
       "      <td>0</td>\n",
       "      <td>0</td>\n",
       "      <td>0</td>\n",
       "      <td>0</td>\n",
       "      <td>0</td>\n",
       "      <td>0</td>\n",
       "      <td>0</td>\n",
       "      <td>0</td>\n",
       "      <td>0</td>\n",
       "      <td>1</td>\n",
       "    </tr>\n",
       "    <tr>\n",
       "      <th>4</th>\n",
       "      <td>0</td>\n",
       "      <td>0.0</td>\n",
       "      <td>0</td>\n",
       "      <td>0.0</td>\n",
       "      <td>10</td>\n",
       "      <td>627.500000</td>\n",
       "      <td>0.02</td>\n",
       "      <td>0.05</td>\n",
       "      <td>0.0</td>\n",
       "      <td>0.0</td>\n",
       "      <td>True</td>\n",
       "      <td>False</td>\n",
       "      <td>0</td>\n",
       "      <td>1</td>\n",
       "      <td>0</td>\n",
       "      <td>0</td>\n",
       "      <td>0</td>\n",
       "      <td>0</td>\n",
       "      <td>0</td>\n",
       "      <td>0</td>\n",
       "      <td>0</td>\n",
       "      <td>0</td>\n",
       "      <td>1</td>\n",
       "      <td>0</td>\n",
       "      <td>0</td>\n",
       "      <td>0</td>\n",
       "      <td>0</td>\n",
       "      <td>0</td>\n",
       "      <td>0</td>\n",
       "      <td>1</td>\n",
       "      <td>0</td>\n",
       "      <td>0</td>\n",
       "      <td>0</td>\n",
       "      <td>0</td>\n",
       "      <td>0</td>\n",
       "      <td>0</td>\n",
       "      <td>0</td>\n",
       "      <td>0</td>\n",
       "      <td>0</td>\n",
       "      <td>0</td>\n",
       "      <td>0</td>\n",
       "      <td>0</td>\n",
       "      <td>0</td>\n",
       "      <td>0</td>\n",
       "      <td>0</td>\n",
       "      <td>0</td>\n",
       "      <td>0</td>\n",
       "      <td>0</td>\n",
       "      <td>0</td>\n",
       "      <td>0</td>\n",
       "      <td>1</td>\n",
       "      <td>0</td>\n",
       "      <td>0</td>\n",
       "      <td>0</td>\n",
       "      <td>0</td>\n",
       "      <td>0</td>\n",
       "      <td>0</td>\n",
       "      <td>0</td>\n",
       "      <td>0</td>\n",
       "      <td>0</td>\n",
       "      <td>0</td>\n",
       "      <td>0</td>\n",
       "      <td>0</td>\n",
       "      <td>0</td>\n",
       "      <td>0</td>\n",
       "      <td>0</td>\n",
       "      <td>0</td>\n",
       "      <td>0</td>\n",
       "      <td>1</td>\n",
       "    </tr>\n",
       "  </tbody>\n",
       "</table>\n",
       "</div>"
      ],
      "text/plain": [
       "   Administrative  Administrative_Duration  Informational  \\\n",
       "0               0                      0.0              0   \n",
       "1               0                      0.0              0   \n",
       "2               0                      0.0              0   \n",
       "3               0                      0.0              0   \n",
       "4               0                      0.0              0   \n",
       "\n",
       "   Informational_Duration  ProductRelated  ProductRelated_Duration  \\\n",
       "0                     0.0               1                 0.000000   \n",
       "1                     0.0               2                64.000000   \n",
       "2                     0.0               1                 0.000000   \n",
       "3                     0.0               2                 2.666667   \n",
       "4                     0.0              10               627.500000   \n",
       "\n",
       "   BounceRates  ExitRates  PageValues  SpecialDay  Weekend  Revenue  \\\n",
       "0         0.20       0.20         0.0         0.0    False    False   \n",
       "1         0.00       0.10         0.0         0.0    False    False   \n",
       "2         0.20       0.20         0.0         0.0    False    False   \n",
       "3         0.05       0.14         0.0         0.0    False    False   \n",
       "4         0.02       0.05         0.0         0.0     True    False   \n",
       "\n",
       "   Month_Dec  Month_Feb  Month_Jul  Month_June  Month_Mar  Month_May  \\\n",
       "0          0          1          0           0          0          0   \n",
       "1          0          1          0           0          0          0   \n",
       "2          0          1          0           0          0          0   \n",
       "3          0          1          0           0          0          0   \n",
       "4          0          1          0           0          0          0   \n",
       "\n",
       "   Month_Nov  Month_Oct  Month_Sep  OperatingSystems_2  OperatingSystems_3  \\\n",
       "0          0          0          0                   0                   0   \n",
       "1          0          0          0                   1                   0   \n",
       "2          0          0          0                   0                   0   \n",
       "3          0          0          0                   0                   1   \n",
       "4          0          0          0                   0                   1   \n",
       "\n",
       "   OperatingSystems_4  OperatingSystems_5  OperatingSystems_6  \\\n",
       "0                   0                   0                   0   \n",
       "1                   0                   0                   0   \n",
       "2                   1                   0                   0   \n",
       "3                   0                   0                   0   \n",
       "4                   0                   0                   0   \n",
       "\n",
       "   OperatingSystems_7  OperatingSystems_8  Browser_2  Browser_3  Browser_4  \\\n",
       "0                   0                   0          0          0          0   \n",
       "1                   0                   0          1          0          0   \n",
       "2                   0                   0          0          0          0   \n",
       "3                   0                   0          1          0          0   \n",
       "4                   0                   0          0          1          0   \n",
       "\n",
       "   Browser_5  Browser_6  Browser_7  Browser_8  Browser_9  Browser_10  \\\n",
       "0          0          0          0          0          0           0   \n",
       "1          0          0          0          0          0           0   \n",
       "2          0          0          0          0          0           0   \n",
       "3          0          0          0          0          0           0   \n",
       "4          0          0          0          0          0           0   \n",
       "\n",
       "   Browser_11  Browser_12  Browser_13  Region_2  Region_3  Region_4  Region_5  \\\n",
       "0           0           0           0         0         0         0         0   \n",
       "1           0           0           0         0         0         0         0   \n",
       "2           0           0           0         0         0         0         0   \n",
       "3           0           0           0         1         0         0         0   \n",
       "4           0           0           0         0         0         0         0   \n",
       "\n",
       "   Region_6  Region_7  Region_8  Region_9  TrafficType_2  TrafficType_3  \\\n",
       "0         0         0         0         0              0              0   \n",
       "1         0         0         0         0              1              0   \n",
       "2         0         0         0         1              0              1   \n",
       "3         0         0         0         0              0              0   \n",
       "4         0         0         0         0              0              0   \n",
       "\n",
       "   TrafficType_4  TrafficType_5  TrafficType_6  TrafficType_7  TrafficType_8  \\\n",
       "0              0              0              0              0              0   \n",
       "1              0              0              0              0              0   \n",
       "2              0              0              0              0              0   \n",
       "3              1              0              0              0              0   \n",
       "4              1              0              0              0              0   \n",
       "\n",
       "   TrafficType_9  TrafficType_10  TrafficType_11  TrafficType_12  \\\n",
       "0              0               0               0               0   \n",
       "1              0               0               0               0   \n",
       "2              0               0               0               0   \n",
       "3              0               0               0               0   \n",
       "4              0               0               0               0   \n",
       "\n",
       "   TrafficType_13  TrafficType_14  TrafficType_15  TrafficType_16  \\\n",
       "0               0               0               0               0   \n",
       "1               0               0               0               0   \n",
       "2               0               0               0               0   \n",
       "3               0               0               0               0   \n",
       "4               0               0               0               0   \n",
       "\n",
       "   TrafficType_17  TrafficType_18  TrafficType_19  TrafficType_20  \\\n",
       "0               0               0               0               0   \n",
       "1               0               0               0               0   \n",
       "2               0               0               0               0   \n",
       "3               0               0               0               0   \n",
       "4               0               0               0               0   \n",
       "\n",
       "   VisitorType_Other  VisitorType_Returning_Visitor  \n",
       "0                  0                              1  \n",
       "1                  0                              1  \n",
       "2                  0                              1  \n",
       "3                  0                              1  \n",
       "4                  0                              1  "
      ]
     },
     "execution_count": 49,
     "metadata": {},
     "output_type": "execute_result"
    }
   ],
   "source": [
    "df.head()"
   ]
  },
  {
   "cell_type": "code",
   "execution_count": 50,
   "metadata": {
    "scrolled": false
   },
   "outputs": [
    {
     "data": {
      "text/plain": [
       "False    10422\n",
       "True      1908\n",
       "Name: Revenue, dtype: int64"
      ]
     },
     "execution_count": 50,
     "metadata": {},
     "output_type": "execute_result"
    }
   ],
   "source": [
    "df.Revenue.value_counts()"
   ]
  },
  {
   "cell_type": "code",
   "execution_count": 51,
   "metadata": {},
   "outputs": [],
   "source": [
    "X = df.drop(['Revenue'],axis=1)\n",
    "y = df.Revenue"
   ]
  },
  {
   "cell_type": "code",
   "execution_count": 52,
   "metadata": {},
   "outputs": [],
   "source": [
    "X_train, X_test, y_train, y_test = train_test_split(X, y, test_size=0.2, random_state=12345)"
   ]
  },
  {
   "cell_type": "code",
   "execution_count": 53,
   "metadata": {
    "scrolled": true
   },
   "outputs": [
    {
     "name": "stderr",
     "output_type": "stream",
     "text": [
      "/anaconda3/lib/python3.6/site-packages/sklearn/preprocessing/data.py:645: DataConversionWarning: Data with input dtype bool, uint8, int64, float64 were all converted to float64 by StandardScaler.\n",
      "  return self.partial_fit(X, y)\n",
      "/anaconda3/lib/python3.6/site-packages/ipykernel_launcher.py:3: DataConversionWarning: Data with input dtype bool, uint8, int64, float64 were all converted to float64 by StandardScaler.\n",
      "  This is separate from the ipykernel package so we can avoid doing imports until\n",
      "/anaconda3/lib/python3.6/site-packages/ipykernel_launcher.py:4: DataConversionWarning: Data with input dtype bool, uint8, int64, float64 were all converted to float64 by StandardScaler.\n",
      "  after removing the cwd from sys.path.\n"
     ]
    }
   ],
   "source": [
    "std = StandardScaler()\n",
    "std.fit(X_train)\n",
    "X_train_st = std.transform(X_train)\n",
    "X_test_st = std.transform(X_test)\n",
    "\n",
    "ros = RandomOverSampler(random_state=0)\n",
    "X_train_st_resampled, y_train_resampled = ros.fit_sample(X_train_st,y_train)\n",
    "X_train_st_smoted, y_train_smoted = SMOTE(random_state=42).fit_sample(X_train_st,y_train)\n",
    "X_train_st_adasyn, y_train_adasyn = ADASYN(random_state=42).fit_sample(X_train_st,y_train)"
   ]
  },
  {
   "cell_type": "code",
   "execution_count": 42,
   "metadata": {},
   "outputs": [
    {
     "data": {
      "text/plain": [
       "False    10422\n",
       "True      1908\n",
       "Name: Revenue, dtype: int64"
      ]
     },
     "execution_count": 42,
     "metadata": {},
     "output_type": "execute_result"
    }
   ],
   "source": [
    "y.value_counts()"
   ]
  },
  {
   "cell_type": "code",
   "execution_count": 16,
   "metadata": {},
   "outputs": [],
   "source": [
    "def print_summary(model,X,y):\n",
    "    #print(f'{model}')\n",
    "    print(f'f1 score: {f1_score(y, model.predict(X))}')\n",
    "    print(f'precision score: {precision_score(y, model.predict(X))}')\n",
    "    print(f'recall score: {recall_score(y, model.predict(X))}')\n",
    "    print(f'log loss: {log_loss(y, model.predict(X))}')\n",
    "    print(f'roc auc: {roc_auc_score(y, model.predict(X))}')\n",
    "    print(f'conf matrix: \\n {confusion_matrix(y, model.predict(X))}')"
   ]
  },
  {
   "cell_type": "code",
   "execution_count": null,
   "metadata": {
    "scrolled": true
   },
   "outputs": [],
   "source": [
    "# dictionary containing model nicknames, model initiations, and model hyperparameter grids\n",
    "\n",
    "model_dict = {\n",
    "    'log': [LogisticRegression(random_state=0, solver='lbfgs', multi_class='multinomial', max_iter=2000),\n",
    "            {'multi_class': ['ovr', 'multinomial', 'auto'], \n",
    "             'C':list(10**np.linspace(-3,3,10))}\n",
    "           ],\n",
    "    'rfc': [RandomForestClassifier(n_estimators=200, max_depth=20,random_state=0),\n",
    "            {'criterion': ['entropy'], \n",
    "              'max_depth': [10,40], \n",
    "              #'min_samples_split': [2,5], \n",
    "              'max_features': ['sqrt']}\n",
    "           ],\n",
    "    'gnb': [GaussianNB(),\n",
    "            {}\n",
    "           ],\n",
    "    'knn': [KNeighborsClassifier(n_neighbors = 10),\n",
    "           {'n_neighbors': list(np.linspace(3,31,15).astype(int)),\n",
    "            'p': [1,2]\n",
    "           }\n",
    "           ],\n",
    "    'svm': [SVC(gamma = 'scale'),\n",
    "           {'kernel': ['linear', 'poly'], #, 'rbf', 'sigmoid'\n",
    "            'C': list(10**np.linspace(-2,2,4))\n",
    "           }\n",
    "           ]\n",
    "}"
   ]
  },
  {
   "cell_type": "code",
   "execution_count": null,
   "metadata": {
    "scrolled": true
   },
   "outputs": [],
   "source": [
    "for dataset [normal, resampled, adasyn, smote]\n",
    "    for nickname, model in model_dict.items():\n",
    "        model_name = nickname + '_model'\n",
    "        model_name = GridSearchCV(model[0],model[1],cv=5,scoring='roc_auc',iid=False,n_jobs = -1,verbose=1).fit(X_train_st, y_train)\n",
    "        pickle.dump(model_name.best_estimator_, open(f'{nickname}.pkl', 'wb'))\n",
    "        print_summary(model_name.best_estimator_,X_test_st,y_test)"
   ]
  },
  {
   "cell_type": "code",
   "execution_count": 9,
   "metadata": {},
   "outputs": [],
   "source": [
    "def model_summary(model, X, y):\n",
    "    print(model)\n",
    "    print(f'f1 score: {f1_score(y, model.predict(X))}')\n",
    "    print(f'precision score: {precision_score(y, model.predict(X))}')\n",
    "    print(f'recall score: {recall_score(y, model.predict(X))}')\n",
    "    print(f'log loss: {log_loss(y, model.predict(X))}')\n",
    "    print(f'roc auc: {roc_auc_score(y, model.predict(X))}')\n",
    "    print(f'conf matrix: \\n {confusion_matrix(y, model.predict(X))}')"
   ]
  },
  {
   "cell_type": "code",
   "execution_count": 35,
   "metadata": {},
   "outputs": [],
   "source": [
    "rfc_grid = {'criterion': ['entropy'],\n",
    "         'n_estimators': [1000],\n",
    "         'max_depth': [12,13,14],\n",
    "         'min_samples_split': [4,5],\n",
    "         'max_features': ['sqrt']}"
   ]
  },
  {
   "cell_type": "code",
   "execution_count": 61,
   "metadata": {
    "scrolled": false
   },
   "outputs": [
    {
     "name": "stdout",
     "output_type": "stream",
     "text": [
      "Fitting 3 folds for each of 6 candidates, totalling 18 fits\n"
     ]
    },
    {
     "name": "stderr",
     "output_type": "stream",
     "text": [
      "[Parallel(n_jobs=-1)]: Using backend LokyBackend with 4 concurrent workers.\n",
      "[Parallel(n_jobs=-1)]: Done  10 tasks      | elapsed:   39.9s\n",
      "[Parallel(n_jobs=-1)]: Done  15 out of  18 | elapsed:   53.7s remaining:   10.7s\n",
      "[Parallel(n_jobs=-1)]: Done  18 out of  18 | elapsed:  1.0min finished\n"
     ]
    }
   ],
   "source": [
    "rfc = GridSearchCV(RandomForestClassifier(),\n",
    "                   param_grid = rfc_grid,\n",
    "                   cv=3,\n",
    "                   scoring='roc_auc',\n",
    "                   iid=False,\n",
    "                   n_jobs = -1,\n",
    "                   verbose = 5).fit(X_train_st,y_train).best_estimator_"
   ]
  },
  {
   "cell_type": "code",
   "execution_count": 36,
   "metadata": {},
   "outputs": [
    {
     "name": "stdout",
     "output_type": "stream",
     "text": [
      "Fitting 3 folds for each of 6 candidates, totalling 18 fits\n"
     ]
    },
    {
     "name": "stderr",
     "output_type": "stream",
     "text": [
      "[Parallel(n_jobs=-1)]: Using backend LokyBackend with 4 concurrent workers.\n",
      "[Parallel(n_jobs=-1)]: Done  10 tasks      | elapsed:  1.1min\n",
      "[Parallel(n_jobs=-1)]: Done  15 out of  18 | elapsed:  1.6min remaining:   18.8s\n",
      "[Parallel(n_jobs=-1)]: Done  18 out of  18 | elapsed:  1.8min finished\n"
     ]
    }
   ],
   "source": [
    "rfc_rs = GridSearchCV(RandomForestClassifier(n_estimators=800, max_depth=20,random_state=0),\n",
    "                   param_grid = rfc_grid,\n",
    "                   cv=3,\n",
    "                   scoring='roc_auc',\n",
    "                   iid=False,\n",
    "                   n_jobs = -1,\n",
    "                   verbose = 5).fit(X_train_st_resampled,y_train_resampled).best_estimator_\n"
   ]
  },
  {
   "cell_type": "code",
   "execution_count": 64,
   "metadata": {},
   "outputs": [
    {
     "name": "stdout",
     "output_type": "stream",
     "text": [
      "Fitting 3 folds for each of 6 candidates, totalling 18 fits\n"
     ]
    },
    {
     "name": "stderr",
     "output_type": "stream",
     "text": [
      "[Parallel(n_jobs=-1)]: Using backend LokyBackend with 4 concurrent workers.\n",
      "[Parallel(n_jobs=-1)]: Done  10 tasks      | elapsed:  1.4min\n",
      "[Parallel(n_jobs=-1)]: Done  15 out of  18 | elapsed:  1.9min remaining:   22.5s\n",
      "[Parallel(n_jobs=-1)]: Done  18 out of  18 | elapsed:  2.2min finished\n"
     ]
    }
   ],
   "source": [
    "rfc_smote = GridSearchCV(RandomForestClassifier(random_state=0),\n",
    "                   param_grid = rfc_grid,\n",
    "                   cv=3,\n",
    "                   scoring='roc_auc',\n",
    "                   iid=False,\n",
    "                   n_jobs = -1,\n",
    "                   verbose = 5).fit(X_train_st_smoted,y_train_smoted).best_estimator_\n"
   ]
  },
  {
   "cell_type": "code",
   "execution_count": 20,
   "metadata": {
    "scrolled": true
   },
   "outputs": [
    {
     "name": "stdout",
     "output_type": "stream",
     "text": [
      "Fitting 3 folds for each of 300 candidates, totalling 900 fits\n"
     ]
    },
    {
     "name": "stderr",
     "output_type": "stream",
     "text": [
      "[Parallel(n_jobs=-1)]: Using backend LokyBackend with 4 concurrent workers.\n",
      "[Parallel(n_jobs=-1)]: Done  12 tasks      | elapsed:    0.4s\n",
      "[Parallel(n_jobs=-1)]: Done 120 tasks      | elapsed:    3.1s\n",
      "[Parallel(n_jobs=-1)]: Done 300 tasks      | elapsed:    9.5s\n",
      "[Parallel(n_jobs=-1)]: Done 552 tasks      | elapsed:   22.7s\n",
      "[Parallel(n_jobs=-1)]: Done 876 tasks      | elapsed:   43.7s\n",
      "[Parallel(n_jobs=-1)]: Done 900 out of 900 | elapsed:   45.2s finished\n"
     ]
    }
   ],
   "source": [
    "log_grid = {'multi_class': ['ovr', 'multinomial', 'auto'],\n",
    "            'C': list(10**np.linspace(-4,1,100))\n",
    "           }\n",
    "\n",
    "log = GridSearchCV(LogisticRegression(random_state=0, solver='lbfgs', max_iter=2000),\n",
    "                   param_grid = log_grid,\n",
    "                   cv=3,\n",
    "                   scoring='roc_auc',\n",
    "                   iid=False,\n",
    "                   n_jobs = -1,\n",
    "                   verbose = 5).fit(X_train_st,y_train).best_estimator_\n"
   ]
  },
  {
   "cell_type": "code",
   "execution_count": 32,
   "metadata": {},
   "outputs": [
    {
     "name": "stdout",
     "output_type": "stream",
     "text": [
      "Fitting 3 folds for each of 300 candidates, totalling 900 fits\n"
     ]
    },
    {
     "name": "stderr",
     "output_type": "stream",
     "text": [
      "[Parallel(n_jobs=-1)]: Using backend LokyBackend with 4 concurrent workers.\n",
      "[Parallel(n_jobs=-1)]: Done  10 tasks      | elapsed:    2.3s\n",
      "[Parallel(n_jobs=-1)]: Done  64 tasks      | elapsed:    4.2s\n",
      "[Parallel(n_jobs=-1)]: Done 154 tasks      | elapsed:    8.3s\n",
      "[Parallel(n_jobs=-1)]: Done 280 tasks      | elapsed:   15.2s\n",
      "[Parallel(n_jobs=-1)]: Done 442 tasks      | elapsed:   26.3s\n",
      "[Parallel(n_jobs=-1)]: Done 640 tasks      | elapsed:   42.3s\n",
      "[Parallel(n_jobs=-1)]: Done 874 tasks      | elapsed:  1.1min\n",
      "[Parallel(n_jobs=-1)]: Done 900 out of 900 | elapsed:  1.1min finished\n"
     ]
    }
   ],
   "source": [
    "log_rs = GridSearchCV(LogisticRegression(random_state=0, solver='lbfgs', max_iter=2000),\n",
    "                   param_grid = log_grid,\n",
    "                   cv=3,\n",
    "                   scoring='roc_auc',\n",
    "                   iid=False,\n",
    "                   n_jobs = -1,\n",
    "                   verbose = 5).fit(X_train_st_resampled,y_train_resampled).best_estimator_"
   ]
  },
  {
   "cell_type": "code",
   "execution_count": 55,
   "metadata": {},
   "outputs": [
    {
     "name": "stdout",
     "output_type": "stream",
     "text": [
      "Fitting 3 folds for each of 300 candidates, totalling 900 fits\n"
     ]
    },
    {
     "name": "stderr",
     "output_type": "stream",
     "text": [
      "[Parallel(n_jobs=-1)]: Using backend LokyBackend with 4 concurrent workers.\n",
      "[Parallel(n_jobs=-1)]: Done  10 tasks      | elapsed:    2.7s\n",
      "[Parallel(n_jobs=-1)]: Done  64 tasks      | elapsed:    5.0s\n",
      "[Parallel(n_jobs=-1)]: Done 154 tasks      | elapsed:    9.4s\n",
      "[Parallel(n_jobs=-1)]: Done 280 tasks      | elapsed:   17.0s\n",
      "[Parallel(n_jobs=-1)]: Done 442 tasks      | elapsed:   29.7s\n",
      "[Parallel(n_jobs=-1)]: Done 640 tasks      | elapsed:   48.5s\n",
      "[Parallel(n_jobs=-1)]: Done 874 tasks      | elapsed:  1.2min\n",
      "[Parallel(n_jobs=-1)]: Done 900 out of 900 | elapsed:  1.3min finished\n"
     ]
    }
   ],
   "source": [
    "log_smote = GridSearchCV(LogisticRegression(random_state=0, solver='lbfgs', max_iter=2000),\n",
    "                   param_grid = log_grid,\n",
    "                   cv=3,\n",
    "                   scoring='roc_auc',\n",
    "                   iid=False,\n",
    "                   n_jobs = -1,\n",
    "                   verbose = 5).fit(X_train_st_smoted,y_train_smoted).best_estimator_"
   ]
  },
  {
   "cell_type": "code",
   "execution_count": 56,
   "metadata": {},
   "outputs": [
    {
     "name": "stdout",
     "output_type": "stream",
     "text": [
      "Fitting 3 folds for each of 300 candidates, totalling 900 fits\n"
     ]
    },
    {
     "name": "stderr",
     "output_type": "stream",
     "text": [
      "[Parallel(n_jobs=-1)]: Using backend LokyBackend with 4 concurrent workers.\n",
      "[Parallel(n_jobs=-1)]: Done  12 tasks      | elapsed:    0.7s\n",
      "[Parallel(n_jobs=-1)]: Done 120 tasks      | elapsed:    4.7s\n",
      "[Parallel(n_jobs=-1)]: Done 300 tasks      | elapsed:   14.0s\n",
      "[Parallel(n_jobs=-1)]: Done 552 tasks      | elapsed:   33.6s\n",
      "[Parallel(n_jobs=-1)]: Done 876 tasks      | elapsed:  1.0min\n",
      "[Parallel(n_jobs=-1)]: Done 900 out of 900 | elapsed:  1.1min finished\n"
     ]
    }
   ],
   "source": [
    "log_adasyn = GridSearchCV(LogisticRegression(random_state=0, solver='lbfgs', max_iter=2000),\n",
    "                   param_grid = log_grid,\n",
    "                   cv=3,\n",
    "                   scoring='roc_auc',\n",
    "                   iid=False,\n",
    "                   n_jobs = -1,\n",
    "                   verbose = 5).fit(X_train_st_adasyn,y_train_adasyn).best_estimator_"
   ]
  },
  {
   "cell_type": "code",
   "execution_count": 57,
   "metadata": {
    "scrolled": true
   },
   "outputs": [
    {
     "name": "stdout",
     "output_type": "stream",
     "text": [
      "LogisticRegression(C=869.7490026177834, class_weight=None, dual=False,\n",
      "          fit_intercept=True, intercept_scaling=1, max_iter=2000,\n",
      "          multi_class='multinomial', n_jobs=None, penalty='l2',\n",
      "          random_state=0, solver='lbfgs', tol=0.0001, verbose=0,\n",
      "          warm_start=False)\n",
      "f1 score: 0.6359832635983264\n",
      "precision score: 0.5507246376811594\n",
      "recall score: 0.7524752475247525\n",
      "log loss: 4.874165647036337\n",
      "roc auc: 0.8161018332677108\n",
      "conf matrix: \n",
      " [[1814  248]\n",
      " [ 100  304]]\n"
     ]
    }
   ],
   "source": [
    "model_summary(log_smote,X_test_st,y_test)"
   ]
  },
  {
   "cell_type": "code",
   "execution_count": 58,
   "metadata": {},
   "outputs": [
    {
     "name": "stdout",
     "output_type": "stream",
     "text": [
      "LogisticRegression(C=1.072267222010323, class_weight=None, dual=False,\n",
      "          fit_intercept=True, intercept_scaling=1, max_iter=2000,\n",
      "          multi_class='ovr', n_jobs=None, penalty='l2', random_state=0,\n",
      "          solver='lbfgs', tol=0.0001, verbose=0, warm_start=False)\n",
      "f1 score: 0.6345957011258957\n",
      "precision score: 0.5410122164048866\n",
      "recall score: 0.7673267326732673\n",
      "log loss: 5.000224439216243\n",
      "roc auc: 0.8198903304491457\n",
      "conf matrix: \n",
      " [[1799  263]\n",
      " [  94  310]]\n"
     ]
    }
   ],
   "source": [
    "model_summary(log_adasyn,X_test_st,y_test)"
   ]
  },
  {
   "cell_type": "code",
   "execution_count": 59,
   "metadata": {},
   "outputs": [
    {
     "name": "stdout",
     "output_type": "stream",
     "text": [
      "LogisticRegression(C=0.021544346900318846, class_weight=None, dual=False,\n",
      "          fit_intercept=True, intercept_scaling=1, max_iter=2000,\n",
      "          multi_class='ovr', n_jobs=None, penalty='l2', random_state=0,\n",
      "          solver='lbfgs', tol=0.0001, verbose=0, warm_start=False)\n",
      "f1 score: 0.48821548821548816\n",
      "precision score: 0.7631578947368421\n",
      "recall score: 0.3589108910891089\n",
      "log loss: 4.2578361743459885\n",
      "roc auc: 0.668543709366087\n",
      "conf matrix: \n",
      " [[2017   45]\n",
      " [ 259  145]]\n"
     ]
    }
   ],
   "source": [
    "model_summary(log,X_test_st,y_test)"
   ]
  },
  {
   "cell_type": "code",
   "execution_count": 60,
   "metadata": {},
   "outputs": [
    {
     "name": "stdout",
     "output_type": "stream",
     "text": [
      "LogisticRegression(C=247.7076355991714, class_weight=None, dual=False,\n",
      "          fit_intercept=True, intercept_scaling=1, max_iter=2000,\n",
      "          multi_class='ovr', n_jobs=None, penalty='l2', random_state=0,\n",
      "          solver='lbfgs', tol=0.0001, verbose=0, warm_start=False)\n",
      "f1 score: 0.6240988671472709\n",
      "precision score: 0.5343915343915344\n",
      "recall score: 0.75\n",
      "log loss: 5.112272699863736\n",
      "roc auc: 0.8109844810863239\n",
      "conf matrix: \n",
      " [[1798  264]\n",
      " [ 101  303]]\n"
     ]
    }
   ],
   "source": [
    "model_summary(log_rs,X_test_st,y_test)"
   ]
  },
  {
   "cell_type": "code",
   "execution_count": 40,
   "metadata": {},
   "outputs": [
    {
     "name": "stdout",
     "output_type": "stream",
     "text": [
      "RandomForestClassifier(bootstrap=True, class_weight=None, criterion='entropy',\n",
      "            max_depth=14, max_features='sqrt', max_leaf_nodes=None,\n",
      "            min_impurity_decrease=0.0, min_impurity_split=None,\n",
      "            min_samples_leaf=1, min_samples_split=4,\n",
      "            min_weight_fraction_leaf=0.0, n_estimators=1000, n_jobs=None,\n",
      "            oob_score=False, random_state=0, verbose=0, warm_start=False)\n",
      "f1 score: 0.7076271186440677\n",
      "precision score: 0.6185185185185185\n",
      "recall score: 0.8267326732673267\n",
      "log loss: 3.865720600999988\n",
      "roc auc: 0.8634148332389009\n",
      "conf matrix: \n",
      " [[1856  206]\n",
      " [  70  334]]\n"
     ]
    }
   ],
   "source": [
    "model_summary(rfc_rs,X_test_st,y_test)"
   ]
  },
  {
   "cell_type": "code",
   "execution_count": 88,
   "metadata": {},
   "outputs": [
    {
     "name": "stdout",
     "output_type": "stream",
     "text": [
      "RandomForestClassifier(bootstrap=True, class_weight=None, criterion='entropy',\n",
      "            max_depth=14, max_features='sqrt', max_leaf_nodes=None,\n",
      "            min_impurity_decrease=0.0, min_impurity_split=None,\n",
      "            min_samples_leaf=1, min_samples_split=4,\n",
      "            min_weight_fraction_leaf=0.0, n_estimators=1000, n_jobs=None,\n",
      "            oob_score=False, random_state=0, verbose=0, warm_start=False)\n",
      "f1 score: 0.7160220994475138\n",
      "precision score: 0.6467065868263473\n",
      "recall score: 0.801980198019802\n",
      "log loss: 3.5995973488390884\n",
      "roc auc: 0.8580706033745955\n",
      "conf matrix: \n",
      " [[1885  177]\n",
      " [  80  324]]\n"
     ]
    }
   ],
   "source": [
    "model_summary(rfc_smote,X_test_st,y_test)"
   ]
  },
  {
   "cell_type": "code",
   "execution_count": 69,
   "metadata": {},
   "outputs": [
    {
     "name": "stdout",
     "output_type": "stream",
     "text": [
      "PageValues\n",
      "Administrative\n",
      "ExitRates\n",
      "ProductRelated_Duration\n",
      "ProductRelated\n",
      "Administrative_Duration\n",
      "Month_Nov\n",
      "BounceRates\n",
      "Informational\n",
      "VisitorType_Returning_Visitor\n"
     ]
    }
   ],
   "source": [
    "important_features = pd.Series(rfc_smote.feature_importances_).nlargest(10).index\n",
    "for i in important_features:\n",
    "    print(X.columns[i])"
   ]
  },
  {
   "cell_type": "code",
   "execution_count": 25,
   "metadata": {},
   "outputs": [
    {
     "name": "stdout",
     "output_type": "stream",
     "text": [
      "RandomForestClassifier(bootstrap=True, class_weight=None, criterion='entropy',\n",
      "            max_depth=14, max_features='sqrt', max_leaf_nodes=None,\n",
      "            min_impurity_decrease=0.0, min_impurity_split=None,\n",
      "            min_samples_leaf=1, min_samples_split=4,\n",
      "            min_weight_fraction_leaf=0.0, n_estimators=1000, n_jobs=None,\n",
      "            oob_score=False, random_state=0, verbose=0, warm_start=False)\n",
      "f1 score: 0.6578947368421053\n",
      "precision score: 0.8035714285714286\n",
      "recall score: 0.556930693069307\n",
      "log loss: 3.2774199733445912\n",
      "roc auc: 0.7651287800943043\n",
      "conf matrix: \n",
      " [[2007   55]\n",
      " [ 179  225]]\n"
     ]
    }
   ],
   "source": [
    "model_summary(rfc,X_test_st,y_test)"
   ]
  },
  {
   "cell_type": "code",
   "execution_count": 74,
   "metadata": {},
   "outputs": [],
   "source": [
    "stacked = StackingClassifier(\n",
    "    classifiers=[log_smote,rfc_smote], meta_classifier=RandomForestClassifier(), use_probas=True)"
   ]
  },
  {
   "cell_type": "code",
   "execution_count": 75,
   "metadata": {},
   "outputs": [
    {
     "name": "stderr",
     "output_type": "stream",
     "text": [
      "/anaconda3/lib/python3.6/site-packages/sklearn/ensemble/forest.py:246: FutureWarning: The default value of n_estimators will change from 10 in version 0.20 to 100 in 0.22.\n",
      "  \"10 in version 0.20 to 100 in 0.22.\", FutureWarning)\n"
     ]
    },
    {
     "data": {
      "text/plain": [
       "StackingClassifier(average_probas=False,\n",
       "          classifiers=[LogisticRegression(C=869.7490026177834, class_weight=None, dual=False,\n",
       "          fit_intercept=True, intercept_scaling=1, max_iter=2000,\n",
       "          multi_class='multinomial', n_jobs=None, penalty='l2',\n",
       "          random_state=0, solver='lbfgs', tol=0.0001, verbose=0,\n",
       "          warm_start=...mators=1000, n_jobs=None,\n",
       "            oob_score=False, random_state=0, verbose=0, warm_start=False)],\n",
       "          meta_classifier=RandomForestClassifier(bootstrap=True, class_weight=None, criterion='gini',\n",
       "            max_depth=None, max_features='auto', max_leaf_nodes=None,\n",
       "            min_impurity_decrease=0.0, min_impurity_split=None,\n",
       "            min_samples_leaf=1, min_samples_split=2,\n",
       "            min_weight_fraction_leaf=0.0, n_estimators='warn', n_jobs=None,\n",
       "            oob_score=False, random_state=None, verbose=0,\n",
       "            warm_start=False),\n",
       "          store_train_meta_features=False, use_clones=True,\n",
       "          use_features_in_secondary=False, use_probas=True, verbose=0)"
      ]
     },
     "execution_count": 75,
     "metadata": {},
     "output_type": "execute_result"
    }
   ],
   "source": [
    "stacked.fit(X_train_st, y_train)"
   ]
  },
  {
   "cell_type": "code",
   "execution_count": 76,
   "metadata": {
    "scrolled": false
   },
   "outputs": [
    {
     "name": "stdout",
     "output_type": "stream",
     "text": [
      "StackingClassifier(average_probas=False,\n",
      "          classifiers=[LogisticRegression(C=869.7490026177834, class_weight=None, dual=False,\n",
      "          fit_intercept=True, intercept_scaling=1, max_iter=2000,\n",
      "          multi_class='multinomial', n_jobs=None, penalty='l2',\n",
      "          random_state=0, solver='lbfgs', tol=0.0001, verbose=0,\n",
      "          warm_start=...mators=1000, n_jobs=None,\n",
      "            oob_score=False, random_state=0, verbose=0, warm_start=False)],\n",
      "          meta_classifier=RandomForestClassifier(bootstrap=True, class_weight=None, criterion='gini',\n",
      "            max_depth=None, max_features='auto', max_leaf_nodes=None,\n",
      "            min_impurity_decrease=0.0, min_impurity_split=None,\n",
      "            min_samples_leaf=1, min_samples_split=2,\n",
      "            min_weight_fraction_leaf=0.0, n_estimators='warn', n_jobs=None,\n",
      "            oob_score=False, random_state=None, verbose=0,\n",
      "            warm_start=False),\n",
      "          store_train_meta_features=False, use_clones=True,\n",
      "          use_features_in_secondary=False, use_probas=True, verbose=0)\n",
      "f1 score: 0.6795865633074936\n",
      "precision score: 0.7108108108108108\n",
      "recall score: 0.650990099009901\n",
      "log loss: 3.473520722977648\n",
      "roc auc: 0.7995493657028165\n",
      "conf matrix: \n",
      " [[1955  107]\n",
      " [ 141  263]]\n"
     ]
    }
   ],
   "source": [
    "model_summary(stacked,X_test_st,y_test)"
   ]
  },
  {
   "cell_type": "code",
   "execution_count": 98,
   "metadata": {},
   "outputs": [
    {
     "data": {
      "image/png": "[encoded data removed]",
      "text/plain": [
       "<Figure size 432x288 with 1 Axes>"
      ]
     },
     "metadata": {
      "needs_background": "light"
     },
     "output_type": "display_data"
    }
   ],
   "source": [
    "plt.hist(predictions);"
   ]
  },
  {
   "cell_type": "code",
   "execution_count": 136,
   "metadata": {},
   "outputs": [
    {
     "name": "stdout",
     "output_type": "stream",
     "text": [
      "best is...0.8200000000000001\n"
     ]
    }
   ],
   "source": [
    "# optimizing threshold\n",
    "probabilities = rfc_smote.predict_proba(X_test_st)[:,1]\n",
    "reals = y_test\n",
    "best_cost = -10**10\n",
    "best_thresh = 0\n",
    "for threshold in np.linspace(0,1,51):\n",
    "    predictions = probabilities >= threshold\n",
    "    tp = sum((reals == 1) & (predictions == 1))\n",
    "    fp = sum((reals == 0) & (predictions == 1))\n",
    "    tn = sum((reals == 0) & (predictions == 0))\n",
    "    fn = sum((reals == 1) & (predictions == 0))\n",
    "    tp_c = 2\n",
    "    fp_c = -5\n",
    "    tn_c = 1\n",
    "    fn_c = 0\n",
    "    cost = tp*tp_c + fp*fp_c + tn*tn_c + fn*fn_c\n",
    "    if cost > best_cost:\n",
    "        best_cost = cost\n",
    "        best_thresh = threshold\n",
    "    #print(f'cost is {cost} and threshold is {threshold}')\n",
    "    #print(f'tp is {tp}, fp is {fp}, tn is {tn}, fn is {fn}')\n",
    "        \n",
    "print(f'best is...{best_thresh}')"
   ]
  }
 ],
 "metadata": {
  "kernelspec": {
   "display_name": "Python 3",
   "language": "python",
   "name": "python3"
  },
  "language_info": {
   "codemirror_mode": {
    "name": "ipython",
    "version": 3
   },
   "file_extension": ".py",
   "mimetype": "text/x-python",
   "name": "python",
   "nbconvert_exporter": "python",
   "pygments_lexer": "ipython3",
   "version": "3.6.8"
  }
 },
 "nbformat": 4,
 "nbformat_minor": 2
}
